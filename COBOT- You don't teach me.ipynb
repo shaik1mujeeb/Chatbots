{
 "cells": [
  {
   "cell_type": "code",
   "execution_count": 1,
   "metadata": {},
   "outputs": [],
   "source": [
    "# Description: It's a bot that uses some machine learning techniques to chat"
   ]
  },
  {
   "cell_type": "code",
   "execution_count": 2,
   "metadata": {},
   "outputs": [],
   "source": [
    "# Import the packages\n",
    "import nltk  # used for natural language processing and it is a natural language tool kit\n",
    "from newspaper import Article # To pull up the aricles from a newspaper3k library or\n",
    "                                #Newspaper is an amazing python library for extracting articles."
   ]
  },
  {
   "cell_type": "code",
   "execution_count": 3,
   "metadata": {},
   "outputs": [],
   "source": [
    "import random #Functions in the random module depend on a pseudo-random number generator function random(),\n",
    "               #which generates a random float number between 0.0 and 1.0.\n",
    "import string  #Python String module contains some constants, utility function, and classes for string manipulation.\n",
    "                    #ex: string.punctuation\n"
   ]
  },
  {
   "cell_type": "code",
   "execution_count": 4,
   "metadata": {},
   "outputs": [],
   "source": [
    "from sklearn.feature_extraction.text import TfidfVectorizer\n",
    "from sklearn.metrics.pairwise import cosine_similarity  #Cosine similarity is a metric used to determine how similar the documents are irrespective of their size.\n",
    "import numpy as np\n",
    "import pandas as pd\n",
    "import warnings   # To ignore any warnings\n",
    "warnings.filterwarnings(\"ignore\")"
   ]
  },
  {
   "cell_type": "code",
   "execution_count": 5,
   "metadata": {},
   "outputs": [
    {
     "data": {
      "text/plain": [
       "True"
      ]
     },
     "execution_count": 5,
     "metadata": {},
     "output_type": "execute_result"
    }
   ],
   "source": [
    "# Download the packages from NLTK\n",
    "nltk.download(\"punkt\", quiet=True)\n",
    "nltk.download(\"wordnet\", quiet=True) #You can use WordNet alongside the NLTK module to find the meanings of words, synonyms, antonyms, and more"
   ]
  },
  {
   "cell_type": "code",
   "execution_count": 6,
   "metadata": {},
   "outputs": [],
   "source": [
    "# Let's scrape the Article\n",
    "article=Article(\"https://www.medpagetoday.com/infectiousdisease/covid19/85165\")"
   ]
  },
  {
   "cell_type": "code",
   "execution_count": 7,
   "metadata": {},
   "outputs": [],
   "source": [
    "article.download()  # To download teh article"
   ]
  },
  {
   "cell_type": "code",
   "execution_count": 8,
   "metadata": {},
   "outputs": [],
   "source": [
    "article.parse()   #resolve (a sentence) into its component parts and describe their syntactic roles."
   ]
  },
  {
   "cell_type": "code",
   "execution_count": 9,
   "metadata": {},
   "outputs": [],
   "source": [
    "article.nlp()  # To apply nlp(natural language procesing) on article"
   ]
  },
  {
   "cell_type": "code",
   "execution_count": 10,
   "metadata": {},
   "outputs": [
    {
     "data": {
      "text/plain": [
       "'FAQs About COVID-19'"
      ]
     },
     "execution_count": 10,
     "metadata": {},
     "output_type": "execute_result"
    }
   ],
   "source": [
    "article.title #To extract articles title"
   ]
  },
  {
   "cell_type": "code",
   "execution_count": 11,
   "metadata": {},
   "outputs": [
    {
     "name": "stdout",
     "output_type": "stream",
     "text": [
      "What about mild or asymptomatic cases of COVID-19?\n",
      "\n",
      "Asymptomatic transmission has not only been confirmed in China, but recent modeling data found that mild or asymptomatic cases that went undetected (\"undocumented\") accounted for 85% of total infections in the earliest stages of the outbreak. The study found these cases were less infectious on a per-contact basis, but because those individuals weren't isolated they infected more people in total.\n",
      "\n",
      "The big unknown, however, is how common it may be for people to become infected but with symptoms too mild to seek treatment. Currently, detection is based on molecular testing, which is performed only on individuals who come into contact with the healthcare system. The prevalence of such mild or asymptomatic infections won't be known until an inexpensive serological test, detecting antibodies to the virus that signal previous exposure, is available for use with routine blood draws. Thus, the extent of exposure in the population may not be known for years.\n",
      "\n",
      "How do you contract COVID-19?\n",
      "\n",
      "Research points to droplet and fomite transmission, with recent data suggesting the virus can survive on surfaces such as plastic and stainless steel for up to several days. It can also survive in the air for a few hours, indicating it may also potentially be aerosol transmissible.\n",
      "\n",
      "The virus may also be transmitted through the fecal-oral route, with research suggesting some patients develop gastrointestinal symptoms, and that the virus is shed through stool.\n",
      "\n",
      "A small cohort study in China found the virus present in two patients' tears, indicating it might be transmissible through eye secretions.\n",
      "\n",
      "How infectious is the COVID-19 coronavirus?\n",
      "\n",
      "Research from China found a similar viral load in symptomatic and asymptomatic patients, which may suggest patients can transmit the virus whether they have mild or severe disease.\n",
      "\n",
      "Latest data from the World Health Organization estimated the \"R0\" as 2.0 to 2.5, meaning infected individuals transmit it to 2-2.5 others on average. By contrast, the R0 for measles is 12-18, while for seasonal influenza it's a little over 1.\n",
      "\n",
      "How virulent is COVID-19?\n",
      "\n",
      "According to JAMA, global mortality for COVID-19 is reported to be 4.7%, and about 1.7% of patients died in the first 141,000 cases in the U.S., though the authors emphasized this was not an accurate case-fatality rate due to the uncertain denominator.\n",
      "\n",
      "CDC examined the first 4,200 U.S. cases, and found 508 (12%) of patients were hospitalized, and of those, 121 were known to be admitted to an intensive care unit, and 44 patients died. Similar to China, both hospitalization and mortality rates increased with increasing age, though this data indicated 20% of hospitalized patients and 12% of patients admitted to an ICU were ages 20-44. Nine patients ages 20-44 died, though in the entire group most deaths were among adults ages 65 and older.\n",
      "\n",
      "Notably, however, mortality rates vary dramatically from one country to another, raising more questions about case-finding and record-keeping than there are answers.\n",
      "\n",
      "What are early symptoms of COVID-19?\n",
      "\n",
      "A large study of hospitalized patients in China found two-thirds of patients presented with a cough, and only around 40% presented with a fever (though about 89% developed fever in the hospital). Gastrointestinal symptoms, such as diarrhea and vomiting, were rare, and reported in under 5% of cases, though some patients appear to present with gastrointestinal symptoms prior to respiratory symptoms, including a subset of patients who only present with GI symptoms.\n",
      "\n",
      "Anosmia, or loss of smell, has also been reported as an early symptom of COVID-19.\n",
      "\n",
      "It appears not all patients present with symptoms, with research out of Germany finding patients testing positive for COVID-19, despite being afebrile and reporting no symptoms on symptom screeners.\n",
      "\n",
      "How is COVID-19 diagnosed?\n",
      "\n",
      "CDC criteria for testing include hospitalized patients with symptoms of COVID-19, older symptomatic adults with chronic medical conditions and/or who are immunocompromised, and anyone who has been in close contact with a suspected or confirmed COVID-19 case within 14 days, including healthcare professionals, or anyone who has traveled to affected geographic areas within 14 days of symptom onset.\n",
      "\n",
      "A patient is swabbed, then the sample is tested via reverse transcription polymerase chain reaction (RT-PCR) to determine presence of viral RNA.\n",
      "\n",
      "The FDA recently authorized the first serology test to detect IgM and IgG antibodies under Emergency Use Authorization, for diagnosing COVID-19 infection in combination with other clinical and lab data.\n",
      "\n",
      "What does severe disease look like?\n",
      "\n",
      "Data from China indicated nearly all hospitalized patients develop pneumonia. Abnormalities on chest CT imaging were common among more severe patients, with \"ground-glass opacity\" present for around 60% of severe patients. More severe patients have also required supplemental oxygen, and in some cases, mechanical ventilation.\n",
      "\n",
      "JAMA detailed 21 patients from Washington state, 15 of whom needed mechanical ventilation. All 15 had acute respiratory distress syndrome, and eight developed severe ARDS by 72 hours. Vasopressors were used for 14 patients, though most patients did not present with evidence of shock, and seven patients developed cardiomyopathy. Mortality among this group was 67%, 24% remained critically ill and 9.5% were discharged from the ICU, as of March 17.\n",
      "\n",
      "However, U.K. research indicated a lower proportion of COVID-19 patients in the critical care unit survived compared to patients with non-COVID-19 viral pneumonia (52.1% vs 77.8%, respectively).\n",
      "\n",
      "How is the disease treated?\n",
      "\n",
      "Treatment mainly consists of supportive care, according to CDC recommendations. The most common complications of severe disease include pneumonia, hypoxemic respiratory failure/ARDS, shock, multiorgan failure.\n",
      "\n",
      "Since pneumonia is common, IV antibiotic use has been widely reported, along with supplemental oxygen, with anecdotal reports of proning and ultimately, mechanical ventilation, including some patients who receive extra corporeal membrane oxygenation (ECMO).\n",
      "\n",
      "Although corticosteroids were widely used in China, the CDC generally recommends against them except in patients with steroid-responsive comorbidities such as septic shock. \"[P]atients with MERS-CoV or influenza who were given corticosteroids were more likely to have prolonged viral replication, receive mechanical ventilation, and have higher mortality,\" whereas reports from China in COVID-19 were uncontrolled and observational, the CDC explained.\n",
      "\n",
      "There are currently no approved therapies to treat COVID-19, although remdesivir had been available for compassionate use; manufacturer Gilead Sciences is now transitioning to expanded access programs for the drug.\n",
      "\n",
      "Many hospitals have begun to use hydroxychloroquine or chloroquine, although the supporting evidence is anecdotal at best (see next section). The FDA has issued an Emergency Use Authorization for hydroxychloroquine held in the National Strategic Stockpile, although that does not make COVID-19 an approved indication. It is not recommended by the CDC.\n",
      "\n",
      "Some centers have also tried anti-cytokine agents such as tocilizumab (Actemra) but evidence of benefit over standard treatment remains scant. Controlled trials with tocilizumab are now underway, including one sponsored by drugmaker Genentech/Roche.\n",
      "\n",
      "What are the drug/vaccine prospects?\n",
      "\n",
      "Investigational therapies include antiviral remdesivir, which is currently being investigated in several clinical trials. The FDA announced investigations into hydroxychloroquine, which is most commonly used to treat patients with malaria, as well as arthritis and systemic lupus erythematosus, though its safety and efficacy remains under debate. Lopinavir/ritonavir (Kaletra), a protease inhibitor used to treat HIV, was being used, but recent trial data indicated no benefit in COVID-19 patients. Sanofi and Regeneron announced a phase II/III trial for sarilumab (Kevzara), an anti-interleukin-6 agent, for patients with severe COVID-19.\n",
      "\n",
      "A small case series in China found three of five patients treated with convalescent plasma were later discharged from the hospital, though questions about scaling this as a potential therapy remain.\n",
      "\n",
      "Several companies and public health agencies have vaccines in development, including the National Institute of Allergy and Infectious Diseases. Phase I trials with vaccines are underway, with a timeline of 12-18 months for a vaccine to be ready for wide-scale deployment.\n",
      "\n",
      "What is the prognosis for patients with COVID-19?\n",
      "\n",
      "Reports from China indicate disease is much more severe in older patients, with the highest mortality rate among adults age 80 and older. Patients with other comorbidities are also the most at risk. The disease appears to be less severe among younger patients. U.S. data seems to indicate fewer children contract severe disease than adults, and hospitalization in this population is most common among infants and children with underlying conditions.\n",
      "\n",
      "Research is starting to come from China that COVID-19 vertical transmission from mother to baby is possible, given several isolated case reports.\n",
      "\n",
      "What are the long-term sequelae of COVID-19?\n",
      "\n",
      "It is unclear whether or how often COVID-19 survivors will experience persistent pulmonary or other problems, or for how long. Many patients have remained hospitalized with the illness for weeks outside of China, out of an abundance of caution and for public health reasons.\n",
      "\n",
      "Researchers from China pointed to cardiovascular system abnormalities in nearly half of a small group of SARS patients in a 12-year follow-up cohort, as well as about two-thirds with high lipids and 60% with glucose metabolism problems. They suggested COVID-19 may also cause chronic damage to the cardiovascular system, as the virus has a similar structure to SARS.\n"
     ]
    }
   ],
   "source": [
    "corpus=article.text\n",
    "print(corpus)"
   ]
  },
  {
   "cell_type": "code",
   "execution_count": 12,
   "metadata": {},
   "outputs": [
    {
     "name": "stdout",
     "output_type": "stream",
     "text": [
      "['What about mild or asymptomatic cases of COVID-19?', 'Asymptomatic transmission has not only been confirmed in China, but recent modeling data found that mild or asymptomatic cases that went undetected (\"undocumented\") accounted for 85% of total infections in the earliest stages of the outbreak.', \"The study found these cases were less infectious on a per-contact basis, but because those individuals weren't isolated they infected more people in total.\", 'The big unknown, however, is how common it may be for people to become infected but with symptoms too mild to seek treatment.', 'Currently, detection is based on molecular testing, which is performed only on individuals who come into contact with the healthcare system.', \"The prevalence of such mild or asymptomatic infections won't be known until an inexpensive serological test, detecting antibodies to the virus that signal previous exposure, is available for use with routine blood draws.\", 'Thus, the extent of exposure in the population may not be known for years.', 'How do you contract COVID-19?', 'Research points to droplet and fomite transmission, with recent data suggesting the virus can survive on surfaces such as plastic and stainless steel for up to several days.', 'It can also survive in the air for a few hours, indicating it may also potentially be aerosol transmissible.', 'The virus may also be transmitted through the fecal-oral route, with research suggesting some patients develop gastrointestinal symptoms, and that the virus is shed through stool.', \"A small cohort study in China found the virus present in two patients' tears, indicating it might be transmissible through eye secretions.\", 'How infectious is the COVID-19 coronavirus?', 'Research from China found a similar viral load in symptomatic and asymptomatic patients, which may suggest patients can transmit the virus whether they have mild or severe disease.', 'Latest data from the World Health Organization estimated the \"R0\" as 2.0 to 2.5, meaning infected individuals transmit it to 2-2.5 others on average.', \"By contrast, the R0 for measles is 12-18, while for seasonal influenza it's a little over 1.\", 'How virulent is COVID-19?', 'According to JAMA, global mortality for COVID-19 is reported to be 4.7%, and about 1.7% of patients died in the first 141,000 cases in the U.S., though the authors emphasized this was not an accurate case-fatality rate due to the uncertain denominator.', 'CDC examined the first 4,200 U.S. cases, and found 508 (12%) of patients were hospitalized, and of those, 121 were known to be admitted to an intensive care unit, and 44 patients died.', 'Similar to China, both hospitalization and mortality rates increased with increasing age, though this data indicated 20% of hospitalized patients and 12% of patients admitted to an ICU were ages 20-44.', 'Nine patients ages 20-44 died, though in the entire group most deaths were among adults ages 65 and older.', 'Notably, however, mortality rates vary dramatically from one country to another, raising more questions about case-finding and record-keeping than there are answers.', 'What are early symptoms of COVID-19?', 'A large study of hospitalized patients in China found two-thirds of patients presented with a cough, and only around 40% presented with a fever (though about 89% developed fever in the hospital).', 'Gastrointestinal symptoms, such as diarrhea and vomiting, were rare, and reported in under 5% of cases, though some patients appear to present with gastrointestinal symptoms prior to respiratory symptoms, including a subset of patients who only present with GI symptoms.', 'Anosmia, or loss of smell, has also been reported as an early symptom of COVID-19.', 'It appears not all patients present with symptoms, with research out of Germany finding patients testing positive for COVID-19, despite being afebrile and reporting no symptoms on symptom screeners.', 'How is COVID-19 diagnosed?', 'CDC criteria for testing include hospitalized patients with symptoms of COVID-19, older symptomatic adults with chronic medical conditions and/or who are immunocompromised, and anyone who has been in close contact with a suspected or confirmed COVID-19 case within 14 days, including healthcare professionals, or anyone who has traveled to affected geographic areas within 14 days of symptom onset.', 'A patient is swabbed, then the sample is tested via reverse transcription polymerase chain reaction (RT-PCR) to determine presence of viral RNA.', 'The FDA recently authorized the first serology test to detect IgM and IgG antibodies under Emergency Use Authorization, for diagnosing COVID-19 infection in combination with other clinical and lab data.', 'What does severe disease look like?', 'Data from China indicated nearly all hospitalized patients develop pneumonia.', 'Abnormalities on chest CT imaging were common among more severe patients, with \"ground-glass opacity\" present for around 60% of severe patients.', 'More severe patients have also required supplemental oxygen, and in some cases, mechanical ventilation.', 'JAMA detailed 21 patients from Washington state, 15 of whom needed mechanical ventilation.', 'All 15 had acute respiratory distress syndrome, and eight developed severe ARDS by 72 hours.', 'Vasopressors were used for 14 patients, though most patients did not present with evidence of shock, and seven patients developed cardiomyopathy.', 'Mortality among this group was 67%, 24% remained critically ill and 9.5% were discharged from the ICU, as of March 17.', 'However, U.K. research indicated a lower proportion of COVID-19 patients in the critical care unit survived compared to patients with non-COVID-19 viral pneumonia (52.1% vs 77.8%, respectively).', 'How is the disease treated?', 'Treatment mainly consists of supportive care, according to CDC recommendations.', 'The most common complications of severe disease include pneumonia, hypoxemic respiratory failure/ARDS, shock, multiorgan failure.', 'Since pneumonia is common, IV antibiotic use has been widely reported, along with supplemental oxygen, with anecdotal reports of proning and ultimately, mechanical ventilation, including some patients who receive extra corporeal membrane oxygenation (ECMO).', 'Although corticosteroids were widely used in China, the CDC generally recommends against them except in patients with steroid-responsive comorbidities such as septic shock.', '\"[P]atients with MERS-CoV or influenza who were given corticosteroids were more likely to have prolonged viral replication, receive mechanical ventilation, and have higher mortality,\" whereas reports from China in COVID-19 were uncontrolled and observational, the CDC explained.', 'There are currently no approved therapies to treat COVID-19, although remdesivir had been available for compassionate use; manufacturer Gilead Sciences is now transitioning to expanded access programs for the drug.', 'Many hospitals have begun to use hydroxychloroquine or chloroquine, although the supporting evidence is anecdotal at best (see next section).', 'The FDA has issued an Emergency Use Authorization for hydroxychloroquine held in the National Strategic Stockpile, although that does not make COVID-19 an approved indication.', 'It is not recommended by the CDC.', 'Some centers have also tried anti-cytokine agents such as tocilizumab (Actemra) but evidence of benefit over standard treatment remains scant.', 'Controlled trials with tocilizumab are now underway, including one sponsored by drugmaker Genentech/Roche.', 'What are the drug/vaccine prospects?', 'Investigational therapies include antiviral remdesivir, which is currently being investigated in several clinical trials.', 'The FDA announced investigations into hydroxychloroquine, which is most commonly used to treat patients with malaria, as well as arthritis and systemic lupus erythematosus, though its safety and efficacy remains under debate.', 'Lopinavir/ritonavir (Kaletra), a protease inhibitor used to treat HIV, was being used, but recent trial data indicated no benefit in COVID-19 patients.', 'Sanofi and Regeneron announced a phase II/III trial for sarilumab (Kevzara), an anti-interleukin-6 agent, for patients with severe COVID-19.', 'A small case series in China found three of five patients treated with convalescent plasma were later discharged from the hospital, though questions about scaling this as a potential therapy remain.', 'Several companies and public health agencies have vaccines in development, including the National Institute of Allergy and Infectious Diseases.', 'Phase I trials with vaccines are underway, with a timeline of 12-18 months for a vaccine to be ready for wide-scale deployment.', 'What is the prognosis for patients with COVID-19?', 'Reports from China indicate disease is much more severe in older patients, with the highest mortality rate among adults age 80 and older.', 'Patients with other comorbidities are also the most at risk.', 'The disease appears to be less severe among younger patients.', 'U.S. data seems to indicate fewer children contract severe disease than adults, and hospitalization in this population is most common among infants and children with underlying conditions.', 'Research is starting to come from China that COVID-19 vertical transmission from mother to baby is possible, given several isolated case reports.', 'What are the long-term sequelae of COVID-19?', 'It is unclear whether or how often COVID-19 survivors will experience persistent pulmonary or other problems, or for how long.', 'Many patients have remained hospitalized with the illness for weeks outside of China, out of an abundance of caution and for public health reasons.', 'Researchers from China pointed to cardiovascular system abnormalities in nearly half of a small group of SARS patients in a 12-year follow-up cohort, as well as about two-thirds with high lipids and 60% with glucose metabolism problems.', 'They suggested COVID-19 may also cause chronic damage to the cardiovascular system, as the virus has a similar structure to SARS.']\n"
     ]
    }
   ],
   "source": [
    "# Tokenization\n",
    "# Here we are performing sentence tokenization\n",
    "text=corpus\n",
    "sent_tokens=nltk.sent_tokenize(text) # convert sentences into list of sentences\n",
    "# print the list of sentences\n",
    "print(sent_tokens)"
   ]
  },
  {
   "cell_type": "code",
   "execution_count": 13,
   "metadata": {},
   "outputs": [],
   "source": [
    "# Text cleaning: Basic step is to remove punctuations, 2nd is to convert entire text to lower case or upper case\n",
    "#Re moving the stop words(occuring frequenlty in a sentence that have no significance)\n",
    "# step4 is to remove unnecessary characters(\\n) steps5: Tokenization-sentence or word tokens, step6: Stemming or lemmatization\n",
    "#(stemming removes end words like playing will have ing truncated, lemmatization gives meaningful words.)\n",
    "#Advanced preprocessing- Normalization( words like ttyl, b4 shrt form of words will be mapped to it's acutal word)\n",
    "# correction of typos= fen when it's fan"
   ]
  },
  {
   "cell_type": "markdown",
   "metadata": {},
   "source": [
    "# Text cleaning"
   ]
  },
  {
   "cell_type": "code",
   "execution_count": 14,
   "metadata": {},
   "outputs": [
    {
     "name": "stdout",
     "output_type": "stream",
     "text": [
      "!\"#$%&'()*+,-./:;<=>?@[\\]^_`{|}~\n"
     ]
    }
   ],
   "source": [
    "# print the punctuations\n",
    "print(string.punctuation)  # list of punctuations that needs to be removed"
   ]
  },
  {
   "cell_type": "code",
   "execution_count": 15,
   "metadata": {},
   "outputs": [],
   "source": [
    "# create a dictionary(key:value) pair to remove punctuations\n",
    "remove_puncts=dict(  (punct, None) for punct in string.punctuation)"
   ]
  },
  {
   "cell_type": "code",
   "execution_count": 16,
   "metadata": {},
   "outputs": [
    {
     "name": "stdout",
     "output_type": "stream",
     "text": [
      "{'!': None, '\"': None, '#': None, '$': None, '%': None, '&': None, \"'\": None, '(': None, ')': None, '*': None, '+': None, ',': None, '-': None, '.': None, '/': None, ':': None, ';': None, '<': None, '=': None, '>': None, '?': None, '@': None, '[': None, '\\\\': None, ']': None, '^': None, '_': None, '`': None, '{': None, '|': None, '}': None, '~': None}\n"
     ]
    }
   ],
   "source": [
    "# print remove_puncts dictionary\n",
    "print(remove_puncts)   # replace symbols with values"
   ]
  },
  {
   "cell_type": "code",
   "execution_count": 17,
   "metadata": {},
   "outputs": [],
   "source": [
    "# Replacing the symbols with values\n",
    "remove_puncts=dict(  (ord(punct), None) for punct in string.punctuation)"
   ]
  },
  {
   "cell_type": "code",
   "execution_count": 18,
   "metadata": {},
   "outputs": [
    {
     "name": "stdout",
     "output_type": "stream",
     "text": [
      "{33: None, 34: None, 35: None, 36: None, 37: None, 38: None, 39: None, 40: None, 41: None, 42: None, 43: None, 44: None, 45: None, 46: None, 47: None, 58: None, 59: None, 60: None, 61: None, 62: None, 63: None, 64: None, 91: None, 92: None, 93: None, 94: None, 95: None, 96: None, 123: None, 124: None, 125: None, 126: None}\n"
     ]
    }
   ],
   "source": [
    "print(remove_puncts)   # replace symbols with values"
   ]
  },
  {
   "cell_type": "code",
   "execution_count": 19,
   "metadata": {},
   "outputs": [
    {
     "name": "stdout",
     "output_type": "stream",
     "text": [
      "['What', 'about', 'mild', 'or', 'asymptomatic', 'cases', 'of', 'COVID-19', '?', 'Asymptomatic', 'transmission', 'has', 'not', 'only', 'been', 'confirmed', 'in', 'China', ',', 'but', 'recent', 'modeling', 'data', 'found', 'that', 'mild', 'or', 'asymptomatic', 'cases', 'that', 'went', 'undetected', '(', '``', 'undocumented', \"''\", ')', 'accounted', 'for', '85', '%', 'of', 'total', 'infections', 'in', 'the', 'earliest', 'stages', 'of', 'the', 'outbreak', '.', 'The', 'study', 'found', 'these', 'cases', 'were', 'less', 'infectious', 'on', 'a', 'per-contact', 'basis', ',', 'but', 'because', 'those', 'individuals', 'were', \"n't\", 'isolated', 'they', 'infected', 'more', 'people', 'in', 'total', '.', 'The', 'big', 'unknown', ',', 'however', ',', 'is', 'how', 'common', 'it', 'may', 'be', 'for', 'people', 'to', 'become', 'infected', 'but', 'with', 'symptoms', 'too', 'mild', 'to', 'seek', 'treatment', '.', 'Currently', ',', 'detection', 'is', 'based', 'on', 'molecular', 'testing', ',', 'which', 'is', 'performed', 'only', 'on', 'individuals', 'who', 'come', 'into', 'contact', 'with', 'the', 'healthcare', 'system', '.', 'The', 'prevalence', 'of', 'such', 'mild', 'or', 'asymptomatic', 'infections', 'wo', \"n't\", 'be', 'known', 'until', 'an', 'inexpensive', 'serological', 'test', ',', 'detecting', 'antibodies', 'to', 'the', 'virus', 'that', 'signal', 'previous', 'exposure', ',', 'is', 'available', 'for', 'use', 'with', 'routine', 'blood', 'draws', '.', 'Thus', ',', 'the', 'extent', 'of', 'exposure', 'in', 'the', 'population', 'may', 'not', 'be', 'known', 'for', 'years', '.', 'How', 'do', 'you', 'contract', 'COVID-19', '?', 'Research', 'points', 'to', 'droplet', 'and', 'fomite', 'transmission', ',', 'with', 'recent', 'data', 'suggesting', 'the', 'virus', 'can', 'survive', 'on', 'surfaces', 'such', 'as', 'plastic', 'and', 'stainless', 'steel', 'for', 'up', 'to', 'several', 'days', '.', 'It', 'can', 'also', 'survive', 'in', 'the', 'air', 'for', 'a', 'few', 'hours', ',', 'indicating', 'it', 'may', 'also', 'potentially', 'be', 'aerosol', 'transmissible', '.', 'The', 'virus', 'may', 'also', 'be', 'transmitted', 'through', 'the', 'fecal-oral', 'route', ',', 'with', 'research', 'suggesting', 'some', 'patients', 'develop', 'gastrointestinal', 'symptoms', ',', 'and', 'that', 'the', 'virus', 'is', 'shed', 'through', 'stool', '.', 'A', 'small', 'cohort', 'study', 'in', 'China', 'found', 'the', 'virus', 'present', 'in', 'two', 'patients', \"'\", 'tears', ',', 'indicating', 'it', 'might', 'be', 'transmissible', 'through', 'eye', 'secretions', '.', 'How', 'infectious', 'is', 'the', 'COVID-19', 'coronavirus', '?', 'Research', 'from', 'China', 'found', 'a', 'similar', 'viral', 'load', 'in', 'symptomatic', 'and', 'asymptomatic', 'patients', ',', 'which', 'may', 'suggest', 'patients', 'can', 'transmit', 'the', 'virus', 'whether', 'they', 'have', 'mild', 'or', 'severe', 'disease', '.', 'Latest', 'data', 'from', 'the', 'World', 'Health', 'Organization', 'estimated', 'the', '``', 'R0', \"''\", 'as', '2.0', 'to', '2.5', ',', 'meaning', 'infected', 'individuals', 'transmit', 'it', 'to', '2-2.5', 'others', 'on', 'average', '.', 'By', 'contrast', ',', 'the', 'R0', 'for', 'measles', 'is', '12-18', ',', 'while', 'for', 'seasonal', 'influenza', 'it', \"'s\", 'a', 'little', 'over', '1', '.', 'How', 'virulent', 'is', 'COVID-19', '?', 'According', 'to', 'JAMA', ',', 'global', 'mortality', 'for', 'COVID-19', 'is', 'reported', 'to', 'be', '4.7', '%', ',', 'and', 'about', '1.7', '%', 'of', 'patients', 'died', 'in', 'the', 'first', '141,000', 'cases', 'in', 'the', 'U.S.', ',', 'though', 'the', 'authors', 'emphasized', 'this', 'was', 'not', 'an', 'accurate', 'case-fatality', 'rate', 'due', 'to', 'the', 'uncertain', 'denominator', '.', 'CDC', 'examined', 'the', 'first', '4,200', 'U.S.', 'cases', ',', 'and', 'found', '508', '(', '12', '%', ')', 'of', 'patients', 'were', 'hospitalized', ',', 'and', 'of', 'those', ',', '121', 'were', 'known', 'to', 'be', 'admitted', 'to', 'an', 'intensive', 'care', 'unit', ',', 'and', '44', 'patients', 'died', '.', 'Similar', 'to', 'China', ',', 'both', 'hospitalization', 'and', 'mortality', 'rates', 'increased', 'with', 'increasing', 'age', ',', 'though', 'this', 'data', 'indicated', '20', '%', 'of', 'hospitalized', 'patients', 'and', '12', '%', 'of', 'patients', 'admitted', 'to', 'an', 'ICU', 'were', 'ages', '20-44', '.', 'Nine', 'patients', 'ages', '20-44', 'died', ',', 'though', 'in', 'the', 'entire', 'group', 'most', 'deaths', 'were', 'among', 'adults', 'ages', '65', 'and', 'older', '.', 'Notably', ',', 'however', ',', 'mortality', 'rates', 'vary', 'dramatically', 'from', 'one', 'country', 'to', 'another', ',', 'raising', 'more', 'questions', 'about', 'case-finding', 'and', 'record-keeping', 'than', 'there', 'are', 'answers', '.', 'What', 'are', 'early', 'symptoms', 'of', 'COVID-19', '?', 'A', 'large', 'study', 'of', 'hospitalized', 'patients', 'in', 'China', 'found', 'two-thirds', 'of', 'patients', 'presented', 'with', 'a', 'cough', ',', 'and', 'only', 'around', '40', '%', 'presented', 'with', 'a', 'fever', '(', 'though', 'about', '89', '%', 'developed', 'fever', 'in', 'the', 'hospital', ')', '.', 'Gastrointestinal', 'symptoms', ',', 'such', 'as', 'diarrhea', 'and', 'vomiting', ',', 'were', 'rare', ',', 'and', 'reported', 'in', 'under', '5', '%', 'of', 'cases', ',', 'though', 'some', 'patients', 'appear', 'to', 'present', 'with', 'gastrointestinal', 'symptoms', 'prior', 'to', 'respiratory', 'symptoms', ',', 'including', 'a', 'subset', 'of', 'patients', 'who', 'only', 'present', 'with', 'GI', 'symptoms', '.', 'Anosmia', ',', 'or', 'loss', 'of', 'smell', ',', 'has', 'also', 'been', 'reported', 'as', 'an', 'early', 'symptom', 'of', 'COVID-19', '.', 'It', 'appears', 'not', 'all', 'patients', 'present', 'with', 'symptoms', ',', 'with', 'research', 'out', 'of', 'Germany', 'finding', 'patients', 'testing', 'positive', 'for', 'COVID-19', ',', 'despite', 'being', 'afebrile', 'and', 'reporting', 'no', 'symptoms', 'on', 'symptom', 'screeners', '.', 'How', 'is', 'COVID-19', 'diagnosed', '?', 'CDC', 'criteria', 'for', 'testing', 'include', 'hospitalized', 'patients', 'with', 'symptoms', 'of', 'COVID-19', ',', 'older', 'symptomatic', 'adults', 'with', 'chronic', 'medical', 'conditions', 'and/or', 'who', 'are', 'immunocompromised', ',', 'and', 'anyone', 'who', 'has', 'been', 'in', 'close', 'contact', 'with', 'a', 'suspected', 'or', 'confirmed', 'COVID-19', 'case', 'within', '14', 'days', ',', 'including', 'healthcare', 'professionals', ',', 'or', 'anyone', 'who', 'has', 'traveled', 'to', 'affected', 'geographic', 'areas', 'within', '14', 'days', 'of', 'symptom', 'onset', '.', 'A', 'patient', 'is', 'swabbed', ',', 'then', 'the', 'sample', 'is', 'tested', 'via', 'reverse', 'transcription', 'polymerase', 'chain', 'reaction', '(', 'RT-PCR', ')', 'to', 'determine', 'presence', 'of', 'viral', 'RNA', '.', 'The', 'FDA', 'recently', 'authorized', 'the', 'first', 'serology', 'test', 'to', 'detect', 'IgM', 'and', 'IgG', 'antibodies', 'under', 'Emergency', 'Use', 'Authorization', ',', 'for', 'diagnosing', 'COVID-19', 'infection', 'in', 'combination', 'with', 'other', 'clinical', 'and', 'lab', 'data', '.', 'What', 'does', 'severe', 'disease', 'look', 'like', '?', 'Data', 'from', 'China', 'indicated', 'nearly', 'all', 'hospitalized', 'patients', 'develop', 'pneumonia', '.', 'Abnormalities', 'on', 'chest', 'CT', 'imaging', 'were', 'common', 'among', 'more', 'severe', 'patients', ',', 'with', '``', 'ground-glass', 'opacity', \"''\", 'present', 'for', 'around', '60', '%', 'of', 'severe', 'patients', '.', 'More', 'severe', 'patients', 'have', 'also', 'required', 'supplemental', 'oxygen', ',', 'and', 'in', 'some', 'cases', ',', 'mechanical', 'ventilation', '.', 'JAMA', 'detailed', '21', 'patients', 'from', 'Washington', 'state', ',', '15', 'of', 'whom', 'needed', 'mechanical', 'ventilation', '.', 'All', '15', 'had', 'acute', 'respiratory', 'distress', 'syndrome', ',', 'and', 'eight', 'developed', 'severe', 'ARDS', 'by', '72', 'hours', '.', 'Vasopressors', 'were', 'used', 'for', '14', 'patients', ',', 'though', 'most', 'patients', 'did', 'not', 'present', 'with', 'evidence', 'of', 'shock', ',', 'and', 'seven', 'patients', 'developed', 'cardiomyopathy', '.', 'Mortality', 'among', 'this', 'group', 'was', '67', '%', ',', '24', '%', 'remained', 'critically', 'ill', 'and', '9.5', '%', 'were', 'discharged', 'from', 'the', 'ICU', ',', 'as', 'of', 'March', '17', '.', 'However', ',', 'U.K.', 'research', 'indicated', 'a', 'lower', 'proportion', 'of', 'COVID-19', 'patients', 'in', 'the', 'critical', 'care', 'unit', 'survived', 'compared', 'to', 'patients', 'with', 'non-COVID-19', 'viral', 'pneumonia', '(', '52.1', '%', 'vs', '77.8', '%', ',', 'respectively', ')', '.', 'How', 'is', 'the', 'disease', 'treated', '?', 'Treatment', 'mainly', 'consists', 'of', 'supportive', 'care', ',', 'according', 'to', 'CDC', 'recommendations', '.', 'The', 'most', 'common', 'complications', 'of', 'severe', 'disease', 'include', 'pneumonia', ',', 'hypoxemic', 'respiratory', 'failure/ARDS', ',', 'shock', ',', 'multiorgan', 'failure', '.', 'Since', 'pneumonia', 'is', 'common', ',', 'IV', 'antibiotic', 'use', 'has', 'been', 'widely', 'reported', ',', 'along', 'with', 'supplemental', 'oxygen', ',', 'with', 'anecdotal', 'reports', 'of', 'proning', 'and', 'ultimately', ',', 'mechanical', 'ventilation', ',', 'including', 'some', 'patients', 'who', 'receive', 'extra', 'corporeal', 'membrane', 'oxygenation', '(', 'ECMO', ')', '.', 'Although', 'corticosteroids', 'were', 'widely', 'used', 'in', 'China', ',', 'the', 'CDC', 'generally', 'recommends', 'against', 'them', 'except', 'in', 'patients', 'with', 'steroid-responsive', 'comorbidities', 'such', 'as', 'septic', 'shock', '.', '``', '[', 'P', ']', 'atients', 'with', 'MERS-CoV', 'or', 'influenza', 'who', 'were', 'given', 'corticosteroids', 'were', 'more', 'likely', 'to', 'have', 'prolonged', 'viral', 'replication', ',', 'receive', 'mechanical', 'ventilation', ',', 'and', 'have', 'higher', 'mortality', ',', \"''\", 'whereas', 'reports', 'from', 'China', 'in', 'COVID-19', 'were', 'uncontrolled', 'and', 'observational', ',', 'the', 'CDC', 'explained', '.', 'There', 'are', 'currently', 'no', 'approved', 'therapies', 'to', 'treat', 'COVID-19', ',', 'although', 'remdesivir', 'had', 'been', 'available', 'for', 'compassionate', 'use', ';', 'manufacturer', 'Gilead', 'Sciences', 'is', 'now', 'transitioning', 'to', 'expanded', 'access', 'programs', 'for', 'the', 'drug', '.', 'Many', 'hospitals', 'have', 'begun', 'to', 'use', 'hydroxychloroquine', 'or', 'chloroquine', ',', 'although', 'the', 'supporting', 'evidence', 'is', 'anecdotal', 'at', 'best', '(', 'see', 'next', 'section', ')', '.', 'The', 'FDA', 'has', 'issued', 'an', 'Emergency', 'Use', 'Authorization', 'for', 'hydroxychloroquine', 'held', 'in', 'the', 'National', 'Strategic', 'Stockpile', ',', 'although', 'that', 'does', 'not', 'make', 'COVID-19', 'an', 'approved', 'indication', '.', 'It', 'is', 'not', 'recommended', 'by', 'the', 'CDC', '.', 'Some', 'centers', 'have', 'also', 'tried', 'anti-cytokine', 'agents', 'such', 'as', 'tocilizumab', '(', 'Actemra', ')', 'but', 'evidence', 'of', 'benefit', 'over', 'standard', 'treatment', 'remains', 'scant', '.', 'Controlled', 'trials', 'with', 'tocilizumab', 'are', 'now', 'underway', ',', 'including', 'one', 'sponsored', 'by', 'drugmaker', 'Genentech/Roche', '.', 'What', 'are', 'the', 'drug/vaccine', 'prospects', '?', 'Investigational', 'therapies', 'include', 'antiviral', 'remdesivir', ',', 'which', 'is', 'currently', 'being', 'investigated', 'in', 'several', 'clinical', 'trials', '.', 'The', 'FDA', 'announced', 'investigations', 'into', 'hydroxychloroquine', ',', 'which', 'is', 'most', 'commonly', 'used', 'to', 'treat', 'patients', 'with', 'malaria', ',', 'as', 'well', 'as', 'arthritis', 'and', 'systemic', 'lupus', 'erythematosus', ',', 'though', 'its', 'safety', 'and', 'efficacy', 'remains', 'under', 'debate', '.', 'Lopinavir/ritonavir', '(', 'Kaletra', ')', ',', 'a', 'protease', 'inhibitor', 'used', 'to', 'treat', 'HIV', ',', 'was', 'being', 'used', ',', 'but', 'recent', 'trial', 'data', 'indicated', 'no', 'benefit', 'in', 'COVID-19', 'patients', '.', 'Sanofi', 'and', 'Regeneron', 'announced', 'a', 'phase', 'II/III', 'trial', 'for', 'sarilumab', '(', 'Kevzara', ')', ',', 'an', 'anti-interleukin-6', 'agent', ',', 'for', 'patients', 'with', 'severe', 'COVID-19', '.', 'A', 'small', 'case', 'series', 'in', 'China', 'found', 'three', 'of', 'five', 'patients', 'treated', 'with', 'convalescent', 'plasma', 'were', 'later', 'discharged', 'from', 'the', 'hospital', ',', 'though', 'questions', 'about', 'scaling', 'this', 'as', 'a', 'potential', 'therapy', 'remain', '.', 'Several', 'companies', 'and', 'public', 'health', 'agencies', 'have', 'vaccines', 'in', 'development', ',', 'including', 'the', 'National', 'Institute', 'of', 'Allergy', 'and', 'Infectious', 'Diseases', '.', 'Phase', 'I', 'trials', 'with', 'vaccines', 'are', 'underway', ',', 'with', 'a', 'timeline', 'of', '12-18', 'months', 'for', 'a', 'vaccine', 'to', 'be', 'ready', 'for', 'wide-scale', 'deployment', '.', 'What', 'is', 'the', 'prognosis', 'for', 'patients', 'with', 'COVID-19', '?', 'Reports', 'from', 'China', 'indicate', 'disease', 'is', 'much', 'more', 'severe', 'in', 'older', 'patients', ',', 'with', 'the', 'highest', 'mortality', 'rate', 'among', 'adults', 'age', '80', 'and', 'older', '.', 'Patients', 'with', 'other', 'comorbidities', 'are', 'also', 'the', 'most', 'at', 'risk', '.', 'The', 'disease', 'appears', 'to', 'be', 'less', 'severe', 'among', 'younger', 'patients', '.', 'U.S.', 'data', 'seems', 'to', 'indicate', 'fewer', 'children', 'contract', 'severe', 'disease', 'than', 'adults', ',', 'and', 'hospitalization', 'in', 'this', 'population', 'is', 'most', 'common', 'among', 'infants', 'and', 'children', 'with', 'underlying', 'conditions', '.', 'Research', 'is', 'starting', 'to', 'come', 'from', 'China', 'that', 'COVID-19', 'vertical', 'transmission', 'from', 'mother', 'to', 'baby', 'is', 'possible', ',', 'given', 'several', 'isolated', 'case', 'reports', '.', 'What', 'are', 'the', 'long-term', 'sequelae', 'of', 'COVID-19', '?', 'It', 'is', 'unclear', 'whether', 'or', 'how', 'often', 'COVID-19', 'survivors', 'will', 'experience', 'persistent', 'pulmonary', 'or', 'other', 'problems', ',', 'or', 'for', 'how', 'long', '.', 'Many', 'patients', 'have', 'remained', 'hospitalized', 'with', 'the', 'illness', 'for', 'weeks', 'outside', 'of', 'China', ',', 'out', 'of', 'an', 'abundance', 'of', 'caution', 'and', 'for', 'public', 'health', 'reasons', '.', 'Researchers', 'from', 'China', 'pointed', 'to', 'cardiovascular', 'system', 'abnormalities', 'in', 'nearly', 'half', 'of', 'a', 'small', 'group', 'of', 'SARS', 'patients', 'in', 'a', '12-year', 'follow-up', 'cohort', ',', 'as', 'well', 'as', 'about', 'two-thirds', 'with', 'high', 'lipids', 'and', '60', '%', 'with', 'glucose', 'metabolism', 'problems', '.', 'They', 'suggested', 'COVID-19', 'may', 'also', 'cause', 'chronic', 'damage', 'to', 'the', 'cardiovascular', 'system', ',', 'as', 'the', 'virus', 'has', 'a', 'similar', 'structure', 'to', 'SARS', '.']\n"
     ]
    }
   ],
   "source": [
    "# create a function to return a list of lemmatized lowercase words after removing punctuations\n",
    "def Lemnormalize(text):\n",
    "    return nltk.word_tokenize(text)  # It converts the sentences into words\n",
    "# print the function\n",
    "print(Lemnormalize(text))"
   ]
  },
  {
   "cell_type": "code",
   "execution_count": 20,
   "metadata": {},
   "outputs": [
    {
     "name": "stdout",
     "output_type": "stream",
     "text": [
      "['what', 'about', 'mild', 'or', 'asymptomatic', 'cases', 'of', 'covid19', 'asymptomatic', 'transmission', 'has', 'not', 'only', 'been', 'confirmed', 'in', 'china', 'but', 'recent', 'modeling', 'data', 'found', 'that', 'mild', 'or', 'asymptomatic', 'cases', 'that', 'went', 'undetected', 'undocumented', 'accounted', 'for', '85', 'of', 'total', 'infections', 'in', 'the', 'earliest', 'stages', 'of', 'the', 'outbreak', 'the', 'study', 'found', 'these', 'cases', 'were', 'less', 'infectious', 'on', 'a', 'percontact', 'basis', 'but', 'because', 'those', 'individuals', 'werent', 'isolated', 'they', 'infected', 'more', 'people', 'in', 'total', 'the', 'big', 'unknown', 'however', 'is', 'how', 'common', 'it', 'may', 'be', 'for', 'people', 'to', 'become', 'infected', 'but', 'with', 'symptoms', 'too', 'mild', 'to', 'seek', 'treatment', 'currently', 'detection', 'is', 'based', 'on', 'molecular', 'testing', 'which', 'is', 'performed', 'only', 'on', 'individuals', 'who', 'come', 'into', 'contact', 'with', 'the', 'healthcare', 'system', 'the', 'prevalence', 'of', 'such', 'mild', 'or', 'asymptomatic', 'infections', 'wont', 'be', 'known', 'until', 'an', 'inexpensive', 'serological', 'test', 'detecting', 'antibodies', 'to', 'the', 'virus', 'that', 'signal', 'previous', 'exposure', 'is', 'available', 'for', 'use', 'with', 'routine', 'blood', 'draws', 'thus', 'the', 'extent', 'of', 'exposure', 'in', 'the', 'population', 'may', 'not', 'be', 'known', 'for', 'years', 'how', 'do', 'you', 'contract', 'covid19', 'research', 'points', 'to', 'droplet', 'and', 'fomite', 'transmission', 'with', 'recent', 'data', 'suggesting', 'the', 'virus', 'can', 'survive', 'on', 'surfaces', 'such', 'as', 'plastic', 'and', 'stainless', 'steel', 'for', 'up', 'to', 'several', 'days', 'it', 'can', 'also', 'survive', 'in', 'the', 'air', 'for', 'a', 'few', 'hours', 'indicating', 'it', 'may', 'also', 'potentially', 'be', 'aerosol', 'transmissible', 'the', 'virus', 'may', 'also', 'be', 'transmitted', 'through', 'the', 'fecaloral', 'route', 'with', 'research', 'suggesting', 'some', 'patients', 'develop', 'gastrointestinal', 'symptoms', 'and', 'that', 'the', 'virus', 'is', 'shed', 'through', 'stool', 'a', 'small', 'cohort', 'study', 'in', 'china', 'found', 'the', 'virus', 'present', 'in', 'two', 'patients', 'tears', 'indicating', 'it', 'might', 'be', 'transmissible', 'through', 'eye', 'secretions', 'how', 'infectious', 'is', 'the', 'covid19', 'coronavirus', 'research', 'from', 'china', 'found', 'a', 'similar', 'viral', 'load', 'in', 'symptomatic', 'and', 'asymptomatic', 'patients', 'which', 'may', 'suggest', 'patients', 'can', 'transmit', 'the', 'virus', 'whether', 'they', 'have', 'mild', 'or', 'severe', 'disease', 'latest', 'data', 'from', 'the', 'world', 'health', 'organization', 'estimated', 'the', 'r0', 'as', '20', 'to', '25', 'meaning', 'infected', 'individuals', 'transmit', 'it', 'to', '225', 'others', 'on', 'average', 'by', 'contrast', 'the', 'r0', 'for', 'measles', 'is', '1218', 'while', 'for', 'seasonal', 'influenza', 'its', 'a', 'little', 'over', '1', 'how', 'virulent', 'is', 'covid19', 'according', 'to', 'jama', 'global', 'mortality', 'for', 'covid19', 'is', 'reported', 'to', 'be', '47', 'and', 'about', '17', 'of', 'patients', 'died', 'in', 'the', 'first', '141000', 'cases', 'in', 'the', 'us', 'though', 'the', 'authors', 'emphasized', 'this', 'was', 'not', 'an', 'accurate', 'casefatality', 'rate', 'due', 'to', 'the', 'uncertain', 'denominator', 'cdc', 'examined', 'the', 'first', '4200', 'us', 'cases', 'and', 'found', '508', '12', 'of', 'patients', 'were', 'hospitalized', 'and', 'of', 'those', '121', 'were', 'known', 'to', 'be', 'admitted', 'to', 'an', 'intensive', 'care', 'unit', 'and', '44', 'patients', 'died', 'similar', 'to', 'china', 'both', 'hospitalization', 'and', 'mortality', 'rates', 'increased', 'with', 'increasing', 'age', 'though', 'this', 'data', 'indicated', '20', 'of', 'hospitalized', 'patients', 'and', '12', 'of', 'patients', 'admitted', 'to', 'an', 'icu', 'were', 'ages', '2044', 'nine', 'patients', 'ages', '2044', 'died', 'though', 'in', 'the', 'entire', 'group', 'most', 'deaths', 'were', 'among', 'adults', 'ages', '65', 'and', 'older', 'notably', 'however', 'mortality', 'rates', 'vary', 'dramatically', 'from', 'one', 'country', 'to', 'another', 'raising', 'more', 'questions', 'about', 'casefinding', 'and', 'recordkeeping', 'than', 'there', 'are', 'answers', 'what', 'are', 'early', 'symptoms', 'of', 'covid19', 'a', 'large', 'study', 'of', 'hospitalized', 'patients', 'in', 'china', 'found', 'twothirds', 'of', 'patients', 'presented', 'with', 'a', 'cough', 'and', 'only', 'around', '40', 'presented', 'with', 'a', 'fever', 'though', 'about', '89', 'developed', 'fever', 'in', 'the', 'hospital', 'gastrointestinal', 'symptoms', 'such', 'as', 'diarrhea', 'and', 'vomiting', 'were', 'rare', 'and', 'reported', 'in', 'under', '5', 'of', 'cases', 'though', 'some', 'patients', 'appear', 'to', 'present', 'with', 'gastrointestinal', 'symptoms', 'prior', 'to', 'respiratory', 'symptoms', 'including', 'a', 'subset', 'of', 'patients', 'who', 'only', 'present', 'with', 'gi', 'symptoms', 'anosmia', 'or', 'loss', 'of', 'smell', 'has', 'also', 'been', 'reported', 'as', 'an', 'early', 'symptom', 'of', 'covid19', 'it', 'appears', 'not', 'all', 'patients', 'present', 'with', 'symptoms', 'with', 'research', 'out', 'of', 'germany', 'finding', 'patients', 'testing', 'positive', 'for', 'covid19', 'despite', 'being', 'afebrile', 'and', 'reporting', 'no', 'symptoms', 'on', 'symptom', 'screeners', 'how', 'is', 'covid19', 'diagnosed', 'cdc', 'criteria', 'for', 'testing', 'include', 'hospitalized', 'patients', 'with', 'symptoms', 'of', 'covid19', 'older', 'symptomatic', 'adults', 'with', 'chronic', 'medical', 'conditions', 'andor', 'who', 'are', 'immunocompromised', 'and', 'anyone', 'who', 'has', 'been', 'in', 'close', 'contact', 'with', 'a', 'suspected', 'or', 'confirmed', 'covid19', 'case', 'within', '14', 'days', 'including', 'healthcare', 'professionals', 'or', 'anyone', 'who', 'has', 'traveled', 'to', 'affected', 'geographic', 'areas', 'within', '14', 'days', 'of', 'symptom', 'onset', 'a', 'patient', 'is', 'swabbed', 'then', 'the', 'sample', 'is', 'tested', 'via', 'reverse', 'transcription', 'polymerase', 'chain', 'reaction', 'rtpcr', 'to', 'determine', 'presence', 'of', 'viral', 'rna', 'the', 'fda', 'recently', 'authorized', 'the', 'first', 'serology', 'test', 'to', 'detect', 'igm', 'and', 'igg', 'antibodies', 'under', 'emergency', 'use', 'authorization', 'for', 'diagnosing', 'covid19', 'infection', 'in', 'combination', 'with', 'other', 'clinical', 'and', 'lab', 'data', 'what', 'does', 'severe', 'disease', 'look', 'like', 'data', 'from', 'china', 'indicated', 'nearly', 'all', 'hospitalized', 'patients', 'develop', 'pneumonia', 'abnormalities', 'on', 'chest', 'ct', 'imaging', 'were', 'common', 'among', 'more', 'severe', 'patients', 'with', 'groundglass', 'opacity', 'present', 'for', 'around', '60', 'of', 'severe', 'patients', 'more', 'severe', 'patients', 'have', 'also', 'required', 'supplemental', 'oxygen', 'and', 'in', 'some', 'cases', 'mechanical', 'ventilation', 'jama', 'detailed', '21', 'patients', 'from', 'washington', 'state', '15', 'of', 'whom', 'needed', 'mechanical', 'ventilation', 'all', '15', 'had', 'acute', 'respiratory', 'distress', 'syndrome', 'and', 'eight', 'developed', 'severe', 'ards', 'by', '72', 'hours', 'vasopressors', 'were', 'used', 'for', '14', 'patients', 'though', 'most', 'patients', 'did', 'not', 'present', 'with', 'evidence', 'of', 'shock', 'and', 'seven', 'patients', 'developed', 'cardiomyopathy', 'mortality', 'among', 'this', 'group', 'was', '67', '24', 'remained', 'critically', 'ill', 'and', '95', 'were', 'discharged', 'from', 'the', 'icu', 'as', 'of', 'march', '17', 'however', 'uk', 'research', 'indicated', 'a', 'lower', 'proportion', 'of', 'covid19', 'patients', 'in', 'the', 'critical', 'care', 'unit', 'survived', 'compared', 'to', 'patients', 'with', 'noncovid19', 'viral', 'pneumonia', '521', 'vs', '778', 'respectively', 'how', 'is', 'the', 'disease', 'treated', 'treatment', 'mainly', 'consists', 'of', 'supportive', 'care', 'according', 'to', 'cdc', 'recommendations', 'the', 'most', 'common', 'complications', 'of', 'severe', 'disease', 'include', 'pneumonia', 'hypoxemic', 'respiratory', 'failureards', 'shock', 'multiorgan', 'failure', 'since', 'pneumonia', 'is', 'common', 'iv', 'antibiotic', 'use', 'has', 'been', 'widely', 'reported', 'along', 'with', 'supplemental', 'oxygen', 'with', 'anecdotal', 'reports', 'of', 'proning', 'and', 'ultimately', 'mechanical', 'ventilation', 'including', 'some', 'patients', 'who', 'receive', 'extra', 'corporeal', 'membrane', 'oxygenation', 'ecmo', 'although', 'corticosteroids', 'were', 'widely', 'used', 'in', 'china', 'the', 'cdc', 'generally', 'recommends', 'against', 'them', 'except', 'in', 'patients', 'with', 'steroidresponsive', 'comorbidities', 'such', 'as', 'septic', 'shock', 'patients', 'with', 'merscov', 'or', 'influenza', 'who', 'were', 'given', 'corticosteroids', 'were', 'more', 'likely', 'to', 'have', 'prolonged', 'viral', 'replication', 'receive', 'mechanical', 'ventilation', 'and', 'have', 'higher', 'mortality', 'whereas', 'reports', 'from', 'china', 'in', 'covid19', 'were', 'uncontrolled', 'and', 'observational', 'the', 'cdc', 'explained', 'there', 'are', 'currently', 'no', 'approved', 'therapies', 'to', 'treat', 'covid19', 'although', 'remdesivir', 'had', 'been', 'available', 'for', 'compassionate', 'use', 'manufacturer', 'gilead', 'sciences', 'is', 'now', 'transitioning', 'to', 'expanded', 'access', 'programs', 'for', 'the', 'drug', 'many', 'hospitals', 'have', 'begun', 'to', 'use', 'hydroxychloroquine', 'or', 'chloroquine', 'although', 'the', 'supporting', 'evidence', 'is', 'anecdotal', 'at', 'best', 'see', 'next', 'section', 'the', 'fda', 'has', 'issued', 'an', 'emergency', 'use', 'authorization', 'for', 'hydroxychloroquine', 'held', 'in', 'the', 'national', 'strategic', 'stockpile', 'although', 'that', 'does', 'not', 'make', 'covid19', 'an', 'approved', 'indication', 'it', 'is', 'not', 'recommended', 'by', 'the', 'cdc', 'some', 'centers', 'have', 'also', 'tried', 'anticytokine', 'agents', 'such', 'as', 'tocilizumab', 'actemra', 'but', 'evidence', 'of', 'benefit', 'over', 'standard', 'treatment', 'remains', 'scant', 'controlled', 'trials', 'with', 'tocilizumab', 'are', 'now', 'underway', 'including', 'one', 'sponsored', 'by', 'drugmaker', 'genentechroche', 'what', 'are', 'the', 'drugvaccine', 'prospects', 'investigational', 'therapies', 'include', 'antiviral', 'remdesivir', 'which', 'is', 'currently', 'being', 'investigated', 'in', 'several', 'clinical', 'trials', 'the', 'fda', 'announced', 'investigations', 'into', 'hydroxychloroquine', 'which', 'is', 'most', 'commonly', 'used', 'to', 'treat', 'patients', 'with', 'malaria', 'as', 'well', 'as', 'arthritis', 'and', 'systemic', 'lupus', 'erythematosus', 'though', 'its', 'safety', 'and', 'efficacy', 'remains', 'under', 'debate', 'lopinavirritonavir', 'kaletra', 'a', 'protease', 'inhibitor', 'used', 'to', 'treat', 'hiv', 'was', 'being', 'used', 'but', 'recent', 'trial', 'data', 'indicated', 'no', 'benefit', 'in', 'covid19', 'patients', 'sanofi', 'and', 'regeneron', 'announced', 'a', 'phase', 'iiiii', 'trial', 'for', 'sarilumab', 'kevzara', 'an', 'antiinterleukin6', 'agent', 'for', 'patients', 'with', 'severe', 'covid19', 'a', 'small', 'case', 'series', 'in', 'china', 'found', 'three', 'of', 'five', 'patients', 'treated', 'with', 'convalescent', 'plasma', 'were', 'later', 'discharged', 'from', 'the', 'hospital', 'though', 'questions', 'about', 'scaling', 'this', 'as', 'a', 'potential', 'therapy', 'remain', 'several', 'companies', 'and', 'public', 'health', 'agencies', 'have', 'vaccines', 'in', 'development', 'including', 'the', 'national', 'institute', 'of', 'allergy', 'and', 'infectious', 'diseases', 'phase', 'i', 'trials', 'with', 'vaccines', 'are', 'underway', 'with', 'a', 'timeline', 'of', '1218', 'months', 'for', 'a', 'vaccine', 'to', 'be', 'ready', 'for', 'widescale', 'deployment', 'what', 'is', 'the', 'prognosis', 'for', 'patients', 'with', 'covid19', 'reports', 'from', 'china', 'indicate', 'disease', 'is', 'much', 'more', 'severe', 'in', 'older', 'patients', 'with', 'the', 'highest', 'mortality', 'rate', 'among', 'adults', 'age', '80', 'and', 'older', 'patients', 'with', 'other', 'comorbidities', 'are', 'also', 'the', 'most', 'at', 'risk', 'the', 'disease', 'appears', 'to', 'be', 'less', 'severe', 'among', 'younger', 'patients', 'us', 'data', 'seems', 'to', 'indicate', 'fewer', 'children', 'contract', 'severe', 'disease', 'than', 'adults', 'and', 'hospitalization', 'in', 'this', 'population', 'is', 'most', 'common', 'among', 'infants', 'and', 'children', 'with', 'underlying', 'conditions', 'research', 'is', 'starting', 'to', 'come', 'from', 'china', 'that', 'covid19', 'vertical', 'transmission', 'from', 'mother', 'to', 'baby', 'is', 'possible', 'given', 'several', 'isolated', 'case', 'reports', 'what', 'are', 'the', 'longterm', 'sequelae', 'of', 'covid19', 'it', 'is', 'unclear', 'whether', 'or', 'how', 'often', 'covid19', 'survivors', 'will', 'experience', 'persistent', 'pulmonary', 'or', 'other', 'problems', 'or', 'for', 'how', 'long', 'many', 'patients', 'have', 'remained', 'hospitalized', 'with', 'the', 'illness', 'for', 'weeks', 'outside', 'of', 'china', 'out', 'of', 'an', 'abundance', 'of', 'caution', 'and', 'for', 'public', 'health', 'reasons', 'researchers', 'from', 'china', 'pointed', 'to', 'cardiovascular', 'system', 'abnormalities', 'in', 'nearly', 'half', 'of', 'a', 'small', 'group', 'of', 'sars', 'patients', 'in', 'a', '12year', 'followup', 'cohort', 'as', 'well', 'as', 'about', 'twothirds', 'with', 'high', 'lipids', 'and', '60', 'with', 'glucose', 'metabolism', 'problems', 'they', 'suggested', 'covid19', 'may', 'also', 'cause', 'chronic', 'damage', 'to', 'the', 'cardiovascular', 'system', 'as', 'the', 'virus', 'has', 'a', 'similar', 'structure', 'to', 'sars']\n"
     ]
    }
   ],
   "source": [
    "# We could see there are spaces in the words that needs to be removed\n",
    "# create a function to return a list of lemmatized lowercase words after removing punctuations\n",
    "def Lemnormalize(text):\n",
    "    return nltk.word_tokenize(text.lower().translate(remove_puncts))  # It converts the sentences into words\n",
    "# print the function\n",
    "print(Lemnormalize(text))"
   ]
  },
  {
   "cell_type": "code",
   "execution_count": 21,
   "metadata": {},
   "outputs": [],
   "source": [
    "# keyword:matching\n",
    "#Greeting inputs\n",
    "Greeting_inputs=[\"hi\", \"hello\", \"hola\", \"greetings\", \"wassup\", \"hey\"]\n",
    "# Greeting responses back to the user\n",
    "Greeting_Response=[\"howdy\", \"hi\", \"hey\", \"what's good\", \"hello\", \"hey there\"]\n"
   ]
  },
  {
   "cell_type": "code",
   "execution_count": 22,
   "metadata": {},
   "outputs": [],
   "source": [
    "# Function to return a random greeting response to a users greeting.\n",
    "def greeting(sentence):\n",
    "    #if the user's input is from a greeting, then return a randomly chosen greeting response\n",
    "    for word in sentence.split():\n",
    "        if word.lower() in Greeting_inputs:\n",
    "            return random.choice(Greeting_Response)"
   ]
  },
  {
   "cell_type": "code",
   "execution_count": 23,
   "metadata": {},
   "outputs": [],
   "source": [
    "def response(user_response):\n",
    "    user_response=user_response.lower()\n",
    "    robo_response=''    # set the chatbot response to an empty string\n",
    "    sent_tokens.append(user_response)   # Append the users response to the sentence list\n",
    "    tfidf=TfidfVectorizer(tokenizer=Lemnormalize, stop_words=\"english\")   # create a TFIdfVectorizer object\n",
    "    TF=tfidf.fit_transform(sent_tokens)    # convert the text into a mtrix of Tf-Idf features\n",
    "    val=cosine_similarity(TF[-1], TF)    # Get the measure of similarity(similarity score)\n",
    "# Here we are finding the similariy score between the user resonse and the text scrapped from the website\n",
    "# Get the index to the most similar text/sentence to the users response\n",
    "    index=val.argsort()[0][-2]  # gives us most similar score at the end of the list\n",
    "    flat=val.flatten()    # Reduce the dimensionaltiy of val to a single list\n",
    "    flat.sort()\n",
    "    score=flat[-2]    # Get the most similar score to the users response\n",
    "    if (score==0):\n",
    "        robo_response=robo_response+\" I apologize, I did not understand\"\n",
    "    else:\n",
    "        robo_response=robo_response+sent_tokens[index]\n",
    "    \n",
    "    sent_tokens.remove(user_response)\n",
    "        \n",
    "    return robo_response\n",
    "        \n",
    "        \n",
    "    \n",
    "    \n",
    "    \n",
    "    \n",
    "    \n",
    "    \n",
    "\n",
    "\n",
    "\n",
    "# The users response/query\n",
    "#user_response=\"what is a kidney disease?\"\n",
    "\n",
    "\n",
    "\n",
    "#user_response=user_response.lower()\n",
    "\n",
    "#print(user_response)\n",
    "\n",
    "\n",
    "#robo_response=''\n",
    "\n",
    "\n",
    "#sent_tokens.append(user_response)\n",
    "\n",
    "#print(sent_tokens)\n",
    "\n",
    "#tfidf=TfidfVectorizer(tokenizer=Lemnormalize, stop_words=\"english\")\n",
    "\n",
    "#TF=tfidf.fit_transform(sent_tokens)\n",
    "\n",
    "\n",
    "#print(TF)\n",
    "\n",
    "\n",
    "#val=cosine_similarity(TF[-1], TF)\n",
    "\n",
    "#print(val)\n",
    "\n",
    "#index=val.argsort()[0][-2]\n",
    "\n",
    "\n",
    "#flat=val.flatten()\n",
    "\n",
    "#flat.sort()\n",
    "\n",
    "#score=flat[-2]\n",
    "\n",
    "#print(score)\n",
    "\n",
    "\n",
    "#if (score==0):\n",
    "    #robo_response=robo_response+\" I apologize, I did not understand\"\n",
    "#else:\n",
    "    #robo_response=robo_response+sent_tokens[index]\n",
    "    \n",
    "#print(robo_response)\n",
    "\n",
    "#sent_tokens.remove(user_response)\n",
    "    \n",
    "\n",
    "\n",
    "\n",
    "\n",
    "\n",
    "\n",
    "\n",
    "\n",
    "\n",
    "\n"
   ]
  },
  {
   "cell_type": "code",
   "execution_count": 24,
   "metadata": {},
   "outputs": [
    {
     "name": "stdout",
     "output_type": "stream",
     "text": [
      "Cobot: I am a Doctor please ask your queries, If you want to exit, Enter Bye!\n",
      "bye\n",
      "Cobot: Chat  with you later\n"
     ]
    }
   ],
   "source": [
    "flag=True\n",
    "print(\"Cobot: I am a Doctor please ask your queries, If you want to exit, Enter Bye!\")\n",
    "while(flag==True):\n",
    "    user_response=input()\n",
    "    user_response=user_response.lower()\n",
    "    if (user_response!=\"bye\"):\n",
    "        if(user_response==\"thanks\" or user_response==\"Thank you\"):\n",
    "            flag=False\n",
    "            print(\"Cobot: You are welcome\")\n",
    "        else:\n",
    "            if(greeting(user_response)):\n",
    "                print(\"Cobot: \"+greeting(user_response))\n",
    "            else:\n",
    "                print(\"Cobot: \"+response(user_response))\n",
    "        \n",
    "    else:\n",
    "        flag=False\n",
    "        print(\"Cobot: Chat  with you later\")"
   ]
  },
  {
   "cell_type": "code",
   "execution_count": null,
   "metadata": {},
   "outputs": [],
   "source": []
  }
 ],
 "metadata": {
  "kernelspec": {
   "display_name": "Python 3",
   "language": "python",
   "name": "python3"
  },
  "language_info": {
   "codemirror_mode": {
    "name": "ipython",
    "version": 3
   },
   "file_extension": ".py",
   "mimetype": "text/x-python",
   "name": "python",
   "nbconvert_exporter": "python",
   "pygments_lexer": "ipython3",
   "version": "3.7.4"
  }
 },
 "nbformat": 4,
 "nbformat_minor": 2
}
