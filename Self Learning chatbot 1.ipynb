{
 "cells": [
  {
   "cell_type": "code",
   "execution_count": 1,
   "metadata": {},
   "outputs": [],
   "source": [
    "# Description: It's a bot that uses some machine learning techniques to chat"
   ]
  },
  {
   "cell_type": "code",
   "execution_count": 2,
   "metadata": {},
   "outputs": [],
   "source": [
    "# Import the packages\n",
    "import nltk  # used for natural language processing and it is a natural language tool kit\n",
    "from newspaper import Article # To pull up the aricles from a newspaper3k library or\n",
    "                                #Newspaper is an amazing python library for extracting articles."
   ]
  },
  {
   "cell_type": "code",
   "execution_count": 3,
   "metadata": {},
   "outputs": [],
   "source": [
    "import random #Functions in the random module depend on a pseudo-random number generator function random(),\n",
    "               #which generates a random float number between 0.0 and 1.0.\n",
    "import string  #Python String module contains some constants, utility function, and classes for string manipulation.\n",
    "                    #ex: string.punctuation\n"
   ]
  },
  {
   "cell_type": "code",
   "execution_count": 4,
   "metadata": {},
   "outputs": [],
   "source": [
    "from sklearn.feature_extraction.text import TfidfVectorizer\n",
    "from sklearn.metrics.pairwise import cosine_similarity  #Cosine similarity is a metric used to determine how similar the documents are irrespective of their size.\n",
    "import numpy as np\n",
    "import pandas as pd\n",
    "import warnings   # To ignore any warnings\n",
    "warnings.filterwarnings(\"ignore\")"
   ]
  },
  {
   "cell_type": "code",
   "execution_count": 5,
   "metadata": {},
   "outputs": [
    {
     "data": {
      "text/plain": [
       "True"
      ]
     },
     "execution_count": 5,
     "metadata": {},
     "output_type": "execute_result"
    }
   ],
   "source": [
    "# Download the packages from NLTK\n",
    "nltk.download(\"punkt\", quiet=True)\n",
    "nltk.download(\"wordnet\", quiet=True)"
   ]
  },
  {
   "cell_type": "code",
   "execution_count": 6,
   "metadata": {},
   "outputs": [],
   "source": [
    "# Let's scrape the Article\n",
    "article=Article(\"https://www.mayoclinic.org/diseases-conditions/chronic-kidney-disease/symptoms-causes/syc-20354521\")"
   ]
  },
  {
   "cell_type": "code",
   "execution_count": 7,
   "metadata": {},
   "outputs": [],
   "source": [
    "article.download()  # To download teh article"
   ]
  },
  {
   "cell_type": "code",
   "execution_count": 8,
   "metadata": {},
   "outputs": [],
   "source": [
    "article.parse()   #resolve (a sentence) into its component parts and describe their syntactic roles."
   ]
  },
  {
   "cell_type": "code",
   "execution_count": 9,
   "metadata": {},
   "outputs": [],
   "source": [
    "article.nlp()  # To apply nlp(natural language procesing) on article"
   ]
  },
  {
   "cell_type": "code",
   "execution_count": 10,
   "metadata": {},
   "outputs": [
    {
     "data": {
      "text/plain": [
       "'Chronic kidney disease - Symptoms and causes'"
      ]
     },
     "execution_count": 10,
     "metadata": {},
     "output_type": "execute_result"
    }
   ],
   "source": [
    "article.title #To extract articles title"
   ]
  },
  {
   "cell_type": "code",
   "execution_count": 11,
   "metadata": {},
   "outputs": [
    {
     "name": "stdout",
     "output_type": "stream",
     "text": [
      "Overview\n",
      "\n",
      "Chronic kidney disease, also called chronic kidney failure, describes the gradual loss of kidney function. Your kidneys filter wastes and excess fluids from your blood, which are then excreted in your urine. When chronic kidney disease reaches an advanced stage, dangerous levels of fluid, electrolytes and wastes can build up in your body.\n",
      "\n",
      "In the early stages of chronic kidney disease, you may have few signs or symptoms. Chronic kidney disease may not become apparent until your kidney function is significantly impaired.\n",
      "\n",
      "Treatment for chronic kidney disease focuses on slowing the progression of the kidney damage, usually by controlling the underlying cause. Chronic kidney disease can progress to end-stage kidney failure, which is fatal without artificial filtering (dialysis) or a kidney transplant.\n",
      "\n",
      "Chronic kidney disease care at Mayo Clinic\n",
      "\n",
      "How kidneys work\n",
      "\n",
      "Symptoms\n",
      "\n",
      "Signs and symptoms of chronic kidney disease develop over time if kidney damage progresses slowly. Signs and symptoms of kidney disease may include:\n",
      "\n",
      "Nausea\n",
      "\n",
      "Vomiting\n",
      "\n",
      "Loss of appetite\n",
      "\n",
      "Fatigue and weakness\n",
      "\n",
      "Sleep problems\n",
      "\n",
      "Changes in how much you urinate\n",
      "\n",
      "Decreased mental sharpness\n",
      "\n",
      "Muscle twitches and cramps\n",
      "\n",
      "Swelling of feet and ankles\n",
      "\n",
      "Persistent itching\n",
      "\n",
      "Chest pain, if fluid builds up around the lining of the heart\n",
      "\n",
      "Shortness of breath, if fluid builds up in the lungs\n",
      "\n",
      "High blood pressure (hypertension) that's difficult to control\n",
      "\n",
      "Signs and symptoms of kidney disease are often nonspecific, meaning they can also be caused by other illnesses. Because your kidneys are highly adaptable and able to compensate for lost function, signs and symptoms may not appear until irreversible damage has occurred.\n",
      "\n",
      "When to see a doctor\n",
      "\n",
      "Make an appointment with your doctor if you have any signs or symptoms of kidney disease.\n",
      "\n",
      "If you have a medical condition that increases your risk of kidney disease, your doctor is likely to monitor your blood pressure and kidney function with urine and blood tests during regular office visits. Ask your doctor whether these tests are necessary for you.\n",
      "\n",
      "Causes\n",
      "\n",
      "Normal kidney vs. diseased kidney Open pop-up dialog box Close Normal kidney vs. diseased kidney Normal kidney vs. diseased kidney A normal kidney has about 1 million filtering units. Each unit, called a glomerulus, connects to a tubule, which collects urine. Conditions such as high blood pressure and diabetes take a toll on kidney function by damaging these filtering units and collecting tubules and causing scarring.\n",
      "\n",
      "Polycystic kidney Open pop-up dialog box Close Polycystic kidney Polycystic kidney A healthy kidney (left) eliminates waste from the blood and maintains the body's normal chemical balance. Fluid-filled sacs (right), called cysts, characterize polycystic kidney disease.\n",
      "\n",
      "Chronic kidney disease occurs when a disease or condition impairs kidney function, causing kidney damage to worsen over several months or years.\n",
      "\n",
      "Diseases and conditions that cause chronic kidney disease include:\n",
      "\n",
      "Type 1 or type 2 diabetes\n",
      "\n",
      "High blood pressure\n",
      "\n",
      "Glomerulonephritis (gloe-mer-u-low-nuh-FRY-tis), an inflammation of the kidney's filtering units (glomeruli)\n",
      "\n",
      "Interstitial nephritis (in-tur-STISH-ul nuh-FRY-tis), an inflammation of the kidney's tubules and surrounding structures\n",
      "\n",
      "Polycystic kidney disease\n",
      "\n",
      "Prolonged obstruction of the urinary tract, from conditions such as enlarged prostate, kidney stones and some cancers\n",
      "\n",
      "Vesicoureteral (ves-ih-koe-yoo-REE-tur-ul) reflux, a condition that causes urine to back up into your kidneys\n",
      "\n",
      "Recurrent kidney infection, also called pyelonephritis (pie-uh-low-nuh-FRY-tis)\n",
      "\n",
      "Risk factors\n",
      "\n",
      "Factors that may increase your risk of chronic kidney disease include:\n",
      "\n",
      "Diabetes\n",
      "\n",
      "High blood pressure\n",
      "\n",
      "Heart and blood vessel (cardiovascular) disease\n",
      "\n",
      "Smoking\n",
      "\n",
      "Obesity\n",
      "\n",
      "Being African-American, Native American or Asian-American\n",
      "\n",
      "Family history of kidney disease\n",
      "\n",
      "Abnormal kidney structure\n",
      "\n",
      "Older age\n",
      "\n",
      "Complications\n",
      "\n",
      "Chronic kidney disease can affect almost every part of your body. Potential complications may include:\n",
      "\n",
      "Fluid retention, which could lead to swelling in your arms and legs, high blood pressure, or fluid in your lungs (pulmonary edema)\n",
      "\n",
      "A sudden rise in potassium levels in your blood (hyperkalemia), which could impair your heart's ability to function and may be life-threatening\n",
      "\n",
      "Heart and blood vessel (cardiovascular) disease\n",
      "\n",
      "Weak bones and an increased risk of bone fractures\n",
      "\n",
      "Anemia\n",
      "\n",
      "Decreased sex drive, erectile dysfunction or reduced fertility\n",
      "\n",
      "Damage to your central nervous system, which can cause difficulty concentrating, personality changes or seizures\n",
      "\n",
      "Decreased immune response, which makes you more vulnerable to infection\n",
      "\n",
      "Pericarditis, an inflammation of the saclike membrane that envelops your heart (pericardium)\n",
      "\n",
      "Pregnancy complications that carry risks for the mother and the developing fetus\n",
      "\n",
      "Irreversible damage to your kidneys (end-stage kidney disease), eventually requiring either dialysis or a kidney transplant for survival\n",
      "\n",
      "Prevention\n",
      "\n",
      "To reduce your risk of developing kidney disease:\n"
     ]
    }
   ],
   "source": [
    "corpus=article.text\n",
    "print(corpus)"
   ]
  },
  {
   "cell_type": "code",
   "execution_count": 12,
   "metadata": {},
   "outputs": [
    {
     "name": "stdout",
     "output_type": "stream",
     "text": [
      "['Overview\\n\\nChronic kidney disease, also called chronic kidney failure, describes the gradual loss of kidney function.', 'Your kidneys filter wastes and excess fluids from your blood, which are then excreted in your urine.', 'When chronic kidney disease reaches an advanced stage, dangerous levels of fluid, electrolytes and wastes can build up in your body.', 'In the early stages of chronic kidney disease, you may have few signs or symptoms.', 'Chronic kidney disease may not become apparent until your kidney function is significantly impaired.', 'Treatment for chronic kidney disease focuses on slowing the progression of the kidney damage, usually by controlling the underlying cause.', 'Chronic kidney disease can progress to end-stage kidney failure, which is fatal without artificial filtering (dialysis) or a kidney transplant.', 'Chronic kidney disease care at Mayo Clinic\\n\\nHow kidneys work\\n\\nSymptoms\\n\\nSigns and symptoms of chronic kidney disease develop over time if kidney damage progresses slowly.', \"Signs and symptoms of kidney disease may include:\\n\\nNausea\\n\\nVomiting\\n\\nLoss of appetite\\n\\nFatigue and weakness\\n\\nSleep problems\\n\\nChanges in how much you urinate\\n\\nDecreased mental sharpness\\n\\nMuscle twitches and cramps\\n\\nSwelling of feet and ankles\\n\\nPersistent itching\\n\\nChest pain, if fluid builds up around the lining of the heart\\n\\nShortness of breath, if fluid builds up in the lungs\\n\\nHigh blood pressure (hypertension) that's difficult to control\\n\\nSigns and symptoms of kidney disease are often nonspecific, meaning they can also be caused by other illnesses.\", 'Because your kidneys are highly adaptable and able to compensate for lost function, signs and symptoms may not appear until irreversible damage has occurred.', 'When to see a doctor\\n\\nMake an appointment with your doctor if you have any signs or symptoms of kidney disease.', 'If you have a medical condition that increases your risk of kidney disease, your doctor is likely to monitor your blood pressure and kidney function with urine and blood tests during regular office visits.', 'Ask your doctor whether these tests are necessary for you.', 'Causes\\n\\nNormal kidney vs. diseased kidney Open pop-up dialog box Close Normal kidney vs. diseased kidney Normal kidney vs. diseased kidney A normal kidney has about 1 million filtering units.', 'Each unit, called a glomerulus, connects to a tubule, which collects urine.', 'Conditions such as high blood pressure and diabetes take a toll on kidney function by damaging these filtering units and collecting tubules and causing scarring.', \"Polycystic kidney Open pop-up dialog box Close Polycystic kidney Polycystic kidney A healthy kidney (left) eliminates waste from the blood and maintains the body's normal chemical balance.\", 'Fluid-filled sacs (right), called cysts, characterize polycystic kidney disease.', 'Chronic kidney disease occurs when a disease or condition impairs kidney function, causing kidney damage to worsen over several months or years.', \"Diseases and conditions that cause chronic kidney disease include:\\n\\nType 1 or type 2 diabetes\\n\\nHigh blood pressure\\n\\nGlomerulonephritis (gloe-mer-u-low-nuh-FRY-tis), an inflammation of the kidney's filtering units (glomeruli)\\n\\nInterstitial nephritis (in-tur-STISH-ul nuh-FRY-tis), an inflammation of the kidney's tubules and surrounding structures\\n\\nPolycystic kidney disease\\n\\nProlonged obstruction of the urinary tract, from conditions such as enlarged prostate, kidney stones and some cancers\\n\\nVesicoureteral (ves-ih-koe-yoo-REE-tur-ul) reflux, a condition that causes urine to back up into your kidneys\\n\\nRecurrent kidney infection, also called pyelonephritis (pie-uh-low-nuh-FRY-tis)\\n\\nRisk factors\\n\\nFactors that may increase your risk of chronic kidney disease include:\\n\\nDiabetes\\n\\nHigh blood pressure\\n\\nHeart and blood vessel (cardiovascular) disease\\n\\nSmoking\\n\\nObesity\\n\\nBeing African-American, Native American or Asian-American\\n\\nFamily history of kidney disease\\n\\nAbnormal kidney structure\\n\\nOlder age\\n\\nComplications\\n\\nChronic kidney disease can affect almost every part of your body.\", \"Potential complications may include:\\n\\nFluid retention, which could lead to swelling in your arms and legs, high blood pressure, or fluid in your lungs (pulmonary edema)\\n\\nA sudden rise in potassium levels in your blood (hyperkalemia), which could impair your heart's ability to function and may be life-threatening\\n\\nHeart and blood vessel (cardiovascular) disease\\n\\nWeak bones and an increased risk of bone fractures\\n\\nAnemia\\n\\nDecreased sex drive, erectile dysfunction or reduced fertility\\n\\nDamage to your central nervous system, which can cause difficulty concentrating, personality changes or seizures\\n\\nDecreased immune response, which makes you more vulnerable to infection\\n\\nPericarditis, an inflammation of the saclike membrane that envelops your heart (pericardium)\\n\\nPregnancy complications that carry risks for the mother and the developing fetus\\n\\nIrreversible damage to your kidneys (end-stage kidney disease), eventually requiring either dialysis or a kidney transplant for survival\\n\\nPrevention\\n\\nTo reduce your risk of developing kidney disease:\"]\n"
     ]
    }
   ],
   "source": [
    "# Tokenization\n",
    "# Here we are performing sentence tokenization\n",
    "text=corpus\n",
    "sent_tokens=nltk.sent_tokenize(text) # convert sentences into list of sentences\n",
    "# print the list of sentences\n",
    "print(sent_tokens)"
   ]
  },
  {
   "cell_type": "code",
   "execution_count": 13,
   "metadata": {},
   "outputs": [],
   "source": [
    "# Text cleaning: Basic step is to remove punctuations, 2nd is to convert entire text to lower case or upper case\n",
    "#Re moving the stop words(occuring frequenlty in a sentence that have no significance)\n",
    "# step4 is to remove unnecessary characters(\\n) steps5: Tokenization-sentence or word tokens, step6: Stemming or lemmatization\n",
    "#(stemming removes end words like playing will have ing truncated, lemmatization gives meaningful words.)\n",
    "#Advanced preprocessing- Normalization( words like ttyl, b4 shrt form of words will be mapped to it's acutal word)\n",
    "# correction of typos= fen when it's fan"
   ]
  },
  {
   "cell_type": "code",
   "execution_count": 14,
   "metadata": {},
   "outputs": [
    {
     "name": "stdout",
     "output_type": "stream",
     "text": [
      "!\"#$%&'()*+,-./:;<=>?@[\\]^_`{|}~\n"
     ]
    }
   ],
   "source": [
    "# print the punctuations\n",
    "print(string.punctuation)  # list of punctuations that needs to be removed"
   ]
  },
  {
   "cell_type": "code",
   "execution_count": 15,
   "metadata": {},
   "outputs": [],
   "source": [
    "# create a dictionary(key:value) pair to remove punctuations\n",
    "remove_puncts=dict(  (punct, None) for punct in string.punctuation)"
   ]
  },
  {
   "cell_type": "code",
   "execution_count": 16,
   "metadata": {},
   "outputs": [
    {
     "name": "stdout",
     "output_type": "stream",
     "text": [
      "{'!': None, '\"': None, '#': None, '$': None, '%': None, '&': None, \"'\": None, '(': None, ')': None, '*': None, '+': None, ',': None, '-': None, '.': None, '/': None, ':': None, ';': None, '<': None, '=': None, '>': None, '?': None, '@': None, '[': None, '\\\\': None, ']': None, '^': None, '_': None, '`': None, '{': None, '|': None, '}': None, '~': None}\n"
     ]
    }
   ],
   "source": [
    "# print remove_puncts dictionary\n",
    "print(remove_puncts)   # replace symbols with values"
   ]
  },
  {
   "cell_type": "code",
   "execution_count": 17,
   "metadata": {},
   "outputs": [],
   "source": [
    "# Replacing the symbols with values\n",
    "remove_puncts=dict(  (ord(punct), None) for punct in string.punctuation)"
   ]
  },
  {
   "cell_type": "code",
   "execution_count": 18,
   "metadata": {},
   "outputs": [
    {
     "name": "stdout",
     "output_type": "stream",
     "text": [
      "{33: None, 34: None, 35: None, 36: None, 37: None, 38: None, 39: None, 40: None, 41: None, 42: None, 43: None, 44: None, 45: None, 46: None, 47: None, 58: None, 59: None, 60: None, 61: None, 62: None, 63: None, 64: None, 91: None, 92: None, 93: None, 94: None, 95: None, 96: None, 123: None, 124: None, 125: None, 126: None}\n"
     ]
    }
   ],
   "source": [
    "print(remove_puncts)   # replace symbols with values"
   ]
  },
  {
   "cell_type": "code",
   "execution_count": 19,
   "metadata": {},
   "outputs": [
    {
     "name": "stdout",
     "output_type": "stream",
     "text": [
      "['Overview', 'Chronic', 'kidney', 'disease', ',', 'also', 'called', 'chronic', 'kidney', 'failure', ',', 'describes', 'the', 'gradual', 'loss', 'of', 'kidney', 'function', '.', 'Your', 'kidneys', 'filter', 'wastes', 'and', 'excess', 'fluids', 'from', 'your', 'blood', ',', 'which', 'are', 'then', 'excreted', 'in', 'your', 'urine', '.', 'When', 'chronic', 'kidney', 'disease', 'reaches', 'an', 'advanced', 'stage', ',', 'dangerous', 'levels', 'of', 'fluid', ',', 'electrolytes', 'and', 'wastes', 'can', 'build', 'up', 'in', 'your', 'body', '.', 'In', 'the', 'early', 'stages', 'of', 'chronic', 'kidney', 'disease', ',', 'you', 'may', 'have', 'few', 'signs', 'or', 'symptoms', '.', 'Chronic', 'kidney', 'disease', 'may', 'not', 'become', 'apparent', 'until', 'your', 'kidney', 'function', 'is', 'significantly', 'impaired', '.', 'Treatment', 'for', 'chronic', 'kidney', 'disease', 'focuses', 'on', 'slowing', 'the', 'progression', 'of', 'the', 'kidney', 'damage', ',', 'usually', 'by', 'controlling', 'the', 'underlying', 'cause', '.', 'Chronic', 'kidney', 'disease', 'can', 'progress', 'to', 'end-stage', 'kidney', 'failure', ',', 'which', 'is', 'fatal', 'without', 'artificial', 'filtering', '(', 'dialysis', ')', 'or', 'a', 'kidney', 'transplant', '.', 'Chronic', 'kidney', 'disease', 'care', 'at', 'Mayo', 'Clinic', 'How', 'kidneys', 'work', 'Symptoms', 'Signs', 'and', 'symptoms', 'of', 'chronic', 'kidney', 'disease', 'develop', 'over', 'time', 'if', 'kidney', 'damage', 'progresses', 'slowly', '.', 'Signs', 'and', 'symptoms', 'of', 'kidney', 'disease', 'may', 'include', ':', 'Nausea', 'Vomiting', 'Loss', 'of', 'appetite', 'Fatigue', 'and', 'weakness', 'Sleep', 'problems', 'Changes', 'in', 'how', 'much', 'you', 'urinate', 'Decreased', 'mental', 'sharpness', 'Muscle', 'twitches', 'and', 'cramps', 'Swelling', 'of', 'feet', 'and', 'ankles', 'Persistent', 'itching', 'Chest', 'pain', ',', 'if', 'fluid', 'builds', 'up', 'around', 'the', 'lining', 'of', 'the', 'heart', 'Shortness', 'of', 'breath', ',', 'if', 'fluid', 'builds', 'up', 'in', 'the', 'lungs', 'High', 'blood', 'pressure', '(', 'hypertension', ')', 'that', \"'s\", 'difficult', 'to', 'control', 'Signs', 'and', 'symptoms', 'of', 'kidney', 'disease', 'are', 'often', 'nonspecific', ',', 'meaning', 'they', 'can', 'also', 'be', 'caused', 'by', 'other', 'illnesses', '.', 'Because', 'your', 'kidneys', 'are', 'highly', 'adaptable', 'and', 'able', 'to', 'compensate', 'for', 'lost', 'function', ',', 'signs', 'and', 'symptoms', 'may', 'not', 'appear', 'until', 'irreversible', 'damage', 'has', 'occurred', '.', 'When', 'to', 'see', 'a', 'doctor', 'Make', 'an', 'appointment', 'with', 'your', 'doctor', 'if', 'you', 'have', 'any', 'signs', 'or', 'symptoms', 'of', 'kidney', 'disease', '.', 'If', 'you', 'have', 'a', 'medical', 'condition', 'that', 'increases', 'your', 'risk', 'of', 'kidney', 'disease', ',', 'your', 'doctor', 'is', 'likely', 'to', 'monitor', 'your', 'blood', 'pressure', 'and', 'kidney', 'function', 'with', 'urine', 'and', 'blood', 'tests', 'during', 'regular', 'office', 'visits', '.', 'Ask', 'your', 'doctor', 'whether', 'these', 'tests', 'are', 'necessary', 'for', 'you', '.', 'Causes', 'Normal', 'kidney', 'vs.', 'diseased', 'kidney', 'Open', 'pop-up', 'dialog', 'box', 'Close', 'Normal', 'kidney', 'vs.', 'diseased', 'kidney', 'Normal', 'kidney', 'vs.', 'diseased', 'kidney', 'A', 'normal', 'kidney', 'has', 'about', '1', 'million', 'filtering', 'units', '.', 'Each', 'unit', ',', 'called', 'a', 'glomerulus', ',', 'connects', 'to', 'a', 'tubule', ',', 'which', 'collects', 'urine', '.', 'Conditions', 'such', 'as', 'high', 'blood', 'pressure', 'and', 'diabetes', 'take', 'a', 'toll', 'on', 'kidney', 'function', 'by', 'damaging', 'these', 'filtering', 'units', 'and', 'collecting', 'tubules', 'and', 'causing', 'scarring', '.', 'Polycystic', 'kidney', 'Open', 'pop-up', 'dialog', 'box', 'Close', 'Polycystic', 'kidney', 'Polycystic', 'kidney', 'A', 'healthy', 'kidney', '(', 'left', ')', 'eliminates', 'waste', 'from', 'the', 'blood', 'and', 'maintains', 'the', 'body', \"'s\", 'normal', 'chemical', 'balance', '.', 'Fluid-filled', 'sacs', '(', 'right', ')', ',', 'called', 'cysts', ',', 'characterize', 'polycystic', 'kidney', 'disease', '.', 'Chronic', 'kidney', 'disease', 'occurs', 'when', 'a', 'disease', 'or', 'condition', 'impairs', 'kidney', 'function', ',', 'causing', 'kidney', 'damage', 'to', 'worsen', 'over', 'several', 'months', 'or', 'years', '.', 'Diseases', 'and', 'conditions', 'that', 'cause', 'chronic', 'kidney', 'disease', 'include', ':', 'Type', '1', 'or', 'type', '2', 'diabetes', 'High', 'blood', 'pressure', 'Glomerulonephritis', '(', 'gloe-mer-u-low-nuh-FRY-tis', ')', ',', 'an', 'inflammation', 'of', 'the', 'kidney', \"'s\", 'filtering', 'units', '(', 'glomeruli', ')', 'Interstitial', 'nephritis', '(', 'in-tur-STISH-ul', 'nuh-FRY-tis', ')', ',', 'an', 'inflammation', 'of', 'the', 'kidney', \"'s\", 'tubules', 'and', 'surrounding', 'structures', 'Polycystic', 'kidney', 'disease', 'Prolonged', 'obstruction', 'of', 'the', 'urinary', 'tract', ',', 'from', 'conditions', 'such', 'as', 'enlarged', 'prostate', ',', 'kidney', 'stones', 'and', 'some', 'cancers', 'Vesicoureteral', '(', 'ves-ih-koe-yoo-REE-tur-ul', ')', 'reflux', ',', 'a', 'condition', 'that', 'causes', 'urine', 'to', 'back', 'up', 'into', 'your', 'kidneys', 'Recurrent', 'kidney', 'infection', ',', 'also', 'called', 'pyelonephritis', '(', 'pie-uh-low-nuh-FRY-tis', ')', 'Risk', 'factors', 'Factors', 'that', 'may', 'increase', 'your', 'risk', 'of', 'chronic', 'kidney', 'disease', 'include', ':', 'Diabetes', 'High', 'blood', 'pressure', 'Heart', 'and', 'blood', 'vessel', '(', 'cardiovascular', ')', 'disease', 'Smoking', 'Obesity', 'Being', 'African-American', ',', 'Native', 'American', 'or', 'Asian-American', 'Family', 'history', 'of', 'kidney', 'disease', 'Abnormal', 'kidney', 'structure', 'Older', 'age', 'Complications', 'Chronic', 'kidney', 'disease', 'can', 'affect', 'almost', 'every', 'part', 'of', 'your', 'body', '.', 'Potential', 'complications', 'may', 'include', ':', 'Fluid', 'retention', ',', 'which', 'could', 'lead', 'to', 'swelling', 'in', 'your', 'arms', 'and', 'legs', ',', 'high', 'blood', 'pressure', ',', 'or', 'fluid', 'in', 'your', 'lungs', '(', 'pulmonary', 'edema', ')', 'A', 'sudden', 'rise', 'in', 'potassium', 'levels', 'in', 'your', 'blood', '(', 'hyperkalemia', ')', ',', 'which', 'could', 'impair', 'your', 'heart', \"'s\", 'ability', 'to', 'function', 'and', 'may', 'be', 'life-threatening', 'Heart', 'and', 'blood', 'vessel', '(', 'cardiovascular', ')', 'disease', 'Weak', 'bones', 'and', 'an', 'increased', 'risk', 'of', 'bone', 'fractures', 'Anemia', 'Decreased', 'sex', 'drive', ',', 'erectile', 'dysfunction', 'or', 'reduced', 'fertility', 'Damage', 'to', 'your', 'central', 'nervous', 'system', ',', 'which', 'can', 'cause', 'difficulty', 'concentrating', ',', 'personality', 'changes', 'or', 'seizures', 'Decreased', 'immune', 'response', ',', 'which', 'makes', 'you', 'more', 'vulnerable', 'to', 'infection', 'Pericarditis', ',', 'an', 'inflammation', 'of', 'the', 'saclike', 'membrane', 'that', 'envelops', 'your', 'heart', '(', 'pericardium', ')', 'Pregnancy', 'complications', 'that', 'carry', 'risks', 'for', 'the', 'mother', 'and', 'the', 'developing', 'fetus', 'Irreversible', 'damage', 'to', 'your', 'kidneys', '(', 'end-stage', 'kidney', 'disease', ')', ',', 'eventually', 'requiring', 'either', 'dialysis', 'or', 'a', 'kidney', 'transplant', 'for', 'survival', 'Prevention', 'To', 'reduce', 'your', 'risk', 'of', 'developing', 'kidney', 'disease', ':']\n"
     ]
    }
   ],
   "source": [
    "# create a function to return a list of lemmatized lowercase words after removing punctuations\n",
    "def Lemnormalize(text):\n",
    "    return nltk.word_tokenize(text)  # It converts the sentences into words\n",
    "# print the function\n",
    "print(Lemnormalize(text))"
   ]
  },
  {
   "cell_type": "code",
   "execution_count": 20,
   "metadata": {},
   "outputs": [
    {
     "name": "stdout",
     "output_type": "stream",
     "text": [
      "['overview', 'chronic', 'kidney', 'disease', 'also', 'called', 'chronic', 'kidney', 'failure', 'describes', 'the', 'gradual', 'loss', 'of', 'kidney', 'function', 'your', 'kidneys', 'filter', 'wastes', 'and', 'excess', 'fluids', 'from', 'your', 'blood', 'which', 'are', 'then', 'excreted', 'in', 'your', 'urine', 'when', 'chronic', 'kidney', 'disease', 'reaches', 'an', 'advanced', 'stage', 'dangerous', 'levels', 'of', 'fluid', 'electrolytes', 'and', 'wastes', 'can', 'build', 'up', 'in', 'your', 'body', 'in', 'the', 'early', 'stages', 'of', 'chronic', 'kidney', 'disease', 'you', 'may', 'have', 'few', 'signs', 'or', 'symptoms', 'chronic', 'kidney', 'disease', 'may', 'not', 'become', 'apparent', 'until', 'your', 'kidney', 'function', 'is', 'significantly', 'impaired', 'treatment', 'for', 'chronic', 'kidney', 'disease', 'focuses', 'on', 'slowing', 'the', 'progression', 'of', 'the', 'kidney', 'damage', 'usually', 'by', 'controlling', 'the', 'underlying', 'cause', 'chronic', 'kidney', 'disease', 'can', 'progress', 'to', 'endstage', 'kidney', 'failure', 'which', 'is', 'fatal', 'without', 'artificial', 'filtering', 'dialysis', 'or', 'a', 'kidney', 'transplant', 'chronic', 'kidney', 'disease', 'care', 'at', 'mayo', 'clinic', 'how', 'kidneys', 'work', 'symptoms', 'signs', 'and', 'symptoms', 'of', 'chronic', 'kidney', 'disease', 'develop', 'over', 'time', 'if', 'kidney', 'damage', 'progresses', 'slowly', 'signs', 'and', 'symptoms', 'of', 'kidney', 'disease', 'may', 'include', 'nausea', 'vomiting', 'loss', 'of', 'appetite', 'fatigue', 'and', 'weakness', 'sleep', 'problems', 'changes', 'in', 'how', 'much', 'you', 'urinate', 'decreased', 'mental', 'sharpness', 'muscle', 'twitches', 'and', 'cramps', 'swelling', 'of', 'feet', 'and', 'ankles', 'persistent', 'itching', 'chest', 'pain', 'if', 'fluid', 'builds', 'up', 'around', 'the', 'lining', 'of', 'the', 'heart', 'shortness', 'of', 'breath', 'if', 'fluid', 'builds', 'up', 'in', 'the', 'lungs', 'high', 'blood', 'pressure', 'hypertension', 'thats', 'difficult', 'to', 'control', 'signs', 'and', 'symptoms', 'of', 'kidney', 'disease', 'are', 'often', 'nonspecific', 'meaning', 'they', 'can', 'also', 'be', 'caused', 'by', 'other', 'illnesses', 'because', 'your', 'kidneys', 'are', 'highly', 'adaptable', 'and', 'able', 'to', 'compensate', 'for', 'lost', 'function', 'signs', 'and', 'symptoms', 'may', 'not', 'appear', 'until', 'irreversible', 'damage', 'has', 'occurred', 'when', 'to', 'see', 'a', 'doctor', 'make', 'an', 'appointment', 'with', 'your', 'doctor', 'if', 'you', 'have', 'any', 'signs', 'or', 'symptoms', 'of', 'kidney', 'disease', 'if', 'you', 'have', 'a', 'medical', 'condition', 'that', 'increases', 'your', 'risk', 'of', 'kidney', 'disease', 'your', 'doctor', 'is', 'likely', 'to', 'monitor', 'your', 'blood', 'pressure', 'and', 'kidney', 'function', 'with', 'urine', 'and', 'blood', 'tests', 'during', 'regular', 'office', 'visits', 'ask', 'your', 'doctor', 'whether', 'these', 'tests', 'are', 'necessary', 'for', 'you', 'causes', 'normal', 'kidney', 'vs', 'diseased', 'kidney', 'open', 'popup', 'dialog', 'box', 'close', 'normal', 'kidney', 'vs', 'diseased', 'kidney', 'normal', 'kidney', 'vs', 'diseased', 'kidney', 'a', 'normal', 'kidney', 'has', 'about', '1', 'million', 'filtering', 'units', 'each', 'unit', 'called', 'a', 'glomerulus', 'connects', 'to', 'a', 'tubule', 'which', 'collects', 'urine', 'conditions', 'such', 'as', 'high', 'blood', 'pressure', 'and', 'diabetes', 'take', 'a', 'toll', 'on', 'kidney', 'function', 'by', 'damaging', 'these', 'filtering', 'units', 'and', 'collecting', 'tubules', 'and', 'causing', 'scarring', 'polycystic', 'kidney', 'open', 'popup', 'dialog', 'box', 'close', 'polycystic', 'kidney', 'polycystic', 'kidney', 'a', 'healthy', 'kidney', 'left', 'eliminates', 'waste', 'from', 'the', 'blood', 'and', 'maintains', 'the', 'bodys', 'normal', 'chemical', 'balance', 'fluidfilled', 'sacs', 'right', 'called', 'cysts', 'characterize', 'polycystic', 'kidney', 'disease', 'chronic', 'kidney', 'disease', 'occurs', 'when', 'a', 'disease', 'or', 'condition', 'impairs', 'kidney', 'function', 'causing', 'kidney', 'damage', 'to', 'worsen', 'over', 'several', 'months', 'or', 'years', 'diseases', 'and', 'conditions', 'that', 'cause', 'chronic', 'kidney', 'disease', 'include', 'type', '1', 'or', 'type', '2', 'diabetes', 'high', 'blood', 'pressure', 'glomerulonephritis', 'gloemerulownuhfrytis', 'an', 'inflammation', 'of', 'the', 'kidneys', 'filtering', 'units', 'glomeruli', 'interstitial', 'nephritis', 'inturstishul', 'nuhfrytis', 'an', 'inflammation', 'of', 'the', 'kidneys', 'tubules', 'and', 'surrounding', 'structures', 'polycystic', 'kidney', 'disease', 'prolonged', 'obstruction', 'of', 'the', 'urinary', 'tract', 'from', 'conditions', 'such', 'as', 'enlarged', 'prostate', 'kidney', 'stones', 'and', 'some', 'cancers', 'vesicoureteral', 'vesihkoeyooreeturul', 'reflux', 'a', 'condition', 'that', 'causes', 'urine', 'to', 'back', 'up', 'into', 'your', 'kidneys', 'recurrent', 'kidney', 'infection', 'also', 'called', 'pyelonephritis', 'pieuhlownuhfrytis', 'risk', 'factors', 'factors', 'that', 'may', 'increase', 'your', 'risk', 'of', 'chronic', 'kidney', 'disease', 'include', 'diabetes', 'high', 'blood', 'pressure', 'heart', 'and', 'blood', 'vessel', 'cardiovascular', 'disease', 'smoking', 'obesity', 'being', 'africanamerican', 'native', 'american', 'or', 'asianamerican', 'family', 'history', 'of', 'kidney', 'disease', 'abnormal', 'kidney', 'structure', 'older', 'age', 'complications', 'chronic', 'kidney', 'disease', 'can', 'affect', 'almost', 'every', 'part', 'of', 'your', 'body', 'potential', 'complications', 'may', 'include', 'fluid', 'retention', 'which', 'could', 'lead', 'to', 'swelling', 'in', 'your', 'arms', 'and', 'legs', 'high', 'blood', 'pressure', 'or', 'fluid', 'in', 'your', 'lungs', 'pulmonary', 'edema', 'a', 'sudden', 'rise', 'in', 'potassium', 'levels', 'in', 'your', 'blood', 'hyperkalemia', 'which', 'could', 'impair', 'your', 'hearts', 'ability', 'to', 'function', 'and', 'may', 'be', 'lifethreatening', 'heart', 'and', 'blood', 'vessel', 'cardiovascular', 'disease', 'weak', 'bones', 'and', 'an', 'increased', 'risk', 'of', 'bone', 'fractures', 'anemia', 'decreased', 'sex', 'drive', 'erectile', 'dysfunction', 'or', 'reduced', 'fertility', 'damage', 'to', 'your', 'central', 'nervous', 'system', 'which', 'can', 'cause', 'difficulty', 'concentrating', 'personality', 'changes', 'or', 'seizures', 'decreased', 'immune', 'response', 'which', 'makes', 'you', 'more', 'vulnerable', 'to', 'infection', 'pericarditis', 'an', 'inflammation', 'of', 'the', 'saclike', 'membrane', 'that', 'envelops', 'your', 'heart', 'pericardium', 'pregnancy', 'complications', 'that', 'carry', 'risks', 'for', 'the', 'mother', 'and', 'the', 'developing', 'fetus', 'irreversible', 'damage', 'to', 'your', 'kidneys', 'endstage', 'kidney', 'disease', 'eventually', 'requiring', 'either', 'dialysis', 'or', 'a', 'kidney', 'transplant', 'for', 'survival', 'prevention', 'to', 'reduce', 'your', 'risk', 'of', 'developing', 'kidney', 'disease']\n"
     ]
    }
   ],
   "source": [
    "# We could see there are spaces in the words that needs to be removed\n",
    "# create a function to return a list of lemmatized lowercase words after removing punctuations\n",
    "def Lemnormalize(text):\n",
    "    return nltk.word_tokenize(text.lower().translate(remove_puncts))  # It converts the sentences into words\n",
    "# print the function\n",
    "print(Lemnormalize(text))"
   ]
  },
  {
   "cell_type": "code",
   "execution_count": 21,
   "metadata": {},
   "outputs": [],
   "source": [
    "# keyword:matching\n",
    "#Greeting inputs\n",
    "Greeting_inputs=[\"hi\", \"hello\", \"hola\", \"greetings\", \"wassup\", \"hey\"]\n",
    "# Greeting responses back to the user\n",
    "Greeting_Response=[\"howdy\", \"hi\", \"hey\", \"what's good\", \"hello\", \"hey there\"]"
   ]
  },
  {
   "cell_type": "code",
   "execution_count": 22,
   "metadata": {},
   "outputs": [],
   "source": [
    "# Function to return a random greeting response to a users greeting.\n",
    "def greeting(sentence):\n",
    "    #if the user's input is from a greeting, then return a randomly chosen greeting response\n",
    "    for word in sentence.split():\n",
    "        if word.lower() in Greeting_inputs:\n",
    "            return random.choice(Greeting_Response)"
   ]
  },
  {
   "cell_type": "code",
   "execution_count": 23,
   "metadata": {},
   "outputs": [],
   "source": [
    "def response(user_response):\n",
    "    user_response=user_response.lower()\n",
    "    robo_response=''    # set the chatbot response to an empty string\n",
    "    sent_tokens.append(user_response)   # Append the users response to the sentence list\n",
    "    tfidf=TfidfVectorizer(tokenizer=Lemnormalize, stop_words=\"english\")   # create a TFIdfVectorizer object\n",
    "    TF=tfidf.fit_transform(sent_tokens)    # convert the text into a mtrix of Tf-Idf features\n",
    "    val=cosine_similarity(TF[-1], TF)    # Get the measure of similarity(similarity score)\n",
    "# Here we are finding the similariy score between the user resonse and the text scrapped from the website\n",
    "# Get the index to the most similar text/sentence to the users response\n",
    "    index=val.argsort()[0][-2]  # gives us most similar score at the end of the list\n",
    "    flat=val.flatten()    # Reduce the dimensionaltiy of val to a single list\n",
    "    flat.sort()\n",
    "    score=flat[-2]    # Get the most similar score to the users response\n",
    "    if (score==0):\n",
    "        robo_response=robo_response+\" I apologize, I did not understand\"\n",
    "    else:\n",
    "        robo_response=robo_response+sent_tokens[index]\n",
    "    \n",
    "    sent_tokens.remove(user_response)\n",
    "        \n",
    "    return robo_response\n",
    "        \n",
    "        \n",
    "    \n",
    "    \n",
    "    \n",
    "    \n",
    "    \n",
    "    \n",
    "\n",
    "\n",
    "\n",
    "# The users response/query\n",
    "#user_response=\"what is a kidney disease?\"\n",
    "\n",
    "\n",
    "\n",
    "#user_response=user_response.lower()\n",
    "\n",
    "#print(user_response)\n",
    "\n",
    "\n",
    "#robo_response=''\n",
    "\n",
    "\n",
    "#sent_tokens.append(user_response)\n",
    "\n",
    "#print(sent_tokens)\n",
    "\n",
    "#tfidf=TfidfVectorizer(tokenizer=Lemnormalize, stop_words=\"english\")\n",
    "\n",
    "#TF=tfidf.fit_transform(sent_tokens)\n",
    "\n",
    "\n",
    "#print(TF)\n",
    "\n",
    "\n",
    "#val=cosine_similarity(TF[-1], TF)\n",
    "\n",
    "#print(val)\n",
    "\n",
    "#index=val.argsort()[0][-2]\n",
    "\n",
    "\n",
    "#flat=val.flatten()\n",
    "\n",
    "#flat.sort()\n",
    "\n",
    "#score=flat[-2]\n",
    "\n",
    "#print(score)\n",
    "\n",
    "\n",
    "#if (score==0):\n",
    "    #robo_response=robo_response+\" I apologize, I did not understand\"\n",
    "#else:\n",
    "    #robo_response=robo_response+sent_tokens[index]\n",
    "    \n",
    "#print(robo_response)\n",
    "\n",
    "#sent_tokens.remove(user_response)\n",
    "    \n",
    "\n",
    "\n",
    "\n",
    "\n",
    "\n",
    "\n",
    "\n",
    "\n",
    "\n",
    "\n"
   ]
  },
  {
   "cell_type": "code",
   "execution_count": null,
   "metadata": {},
   "outputs": [
    {
     "name": "stdout",
     "output_type": "stream",
     "text": [
      "Kidbot: I am a Doctor please ask your queries, If you want to exit, Enter Bye!\n",
      "When do I see a doctore?\n",
      "Kidbot:  I apologize, I did not understand\n",
      "when to see a doctor\n",
      "Kidbot: When to see a doctor\n",
      "\n",
      "Make an appointment with your doctor if you have any signs or symptoms of kidney disease.\n",
      "what are the causes of kidney disease?\n",
      "Kidbot: Diseases and conditions that cause chronic kidney disease include:\n",
      "\n",
      "Type 1 or type 2 diabetes\n",
      "\n",
      "High blood pressure\n",
      "\n",
      "Glomerulonephritis (gloe-mer-u-low-nuh-FRY-tis), an inflammation of the kidney's filtering units (glomeruli)\n",
      "\n",
      "Interstitial nephritis (in-tur-STISH-ul nuh-FRY-tis), an inflammation of the kidney's tubules and surrounding structures\n",
      "\n",
      "Polycystic kidney disease\n",
      "\n",
      "Prolonged obstruction of the urinary tract, from conditions such as enlarged prostate, kidney stones and some cancers\n",
      "\n",
      "Vesicoureteral (ves-ih-koe-yoo-REE-tur-ul) reflux, a condition that causes urine to back up into your kidneys\n",
      "\n",
      "Recurrent kidney infection, also called pyelonephritis (pie-uh-low-nuh-FRY-tis)\n",
      "\n",
      "Risk factors\n",
      "\n",
      "Factors that may increase your risk of chronic kidney disease include:\n",
      "\n",
      "Diabetes\n",
      "\n",
      "High blood pressure\n",
      "\n",
      "Heart and blood vessel (cardiovascular) disease\n",
      "\n",
      "Smoking\n",
      "\n",
      "Obesity\n",
      "\n",
      "Being African-American, Native American or Asian-American\n",
      "\n",
      "Family history of kidney disease\n",
      "\n",
      "Abnormal kidney structure\n",
      "\n",
      "Older age\n",
      "\n",
      "Complications\n",
      "\n",
      "Chronic kidney disease can affect almost every part of your body.\n"
     ]
    }
   ],
   "source": [
    "flag=True\n",
    "print(\"Kidbot: I am a Doctor please ask your queries, If you want to exit, Enter Bye!\")\n",
    "while(flag==True):\n",
    "    user_response=input()\n",
    "    user_response=user_response.lower()\n",
    "    if (user_response!=\"bye\"):\n",
    "        if(user_response==\"thanks\" or user_response==\"Thank you\"):\n",
    "            flag=False\n",
    "            print(\"Kidbot: You are welcome\")\n",
    "        else:\n",
    "            if(greeting(user_response)):\n",
    "                print(\"Kidbot: \"+greeting(user_response))\n",
    "            else:\n",
    "                print(\"Kidbot: \"+response(user_response))\n",
    "        \n",
    "    else:\n",
    "        flag=False\n",
    "        print(\"Kidbot: Chat  with you later\")"
   ]
  },
  {
   "cell_type": "code",
   "execution_count": null,
   "metadata": {},
   "outputs": [],
   "source": []
  }
 ],
 "metadata": {
  "kernelspec": {
   "display_name": "Python 3",
   "language": "python",
   "name": "python3"
  },
  "language_info": {
   "codemirror_mode": {
    "name": "ipython",
    "version": 3
   },
   "file_extension": ".py",
   "mimetype": "text/x-python",
   "name": "python",
   "nbconvert_exporter": "python",
   "pygments_lexer": "ipython3",
   "version": "3.7.4"
  }
 },
 "nbformat": 4,
 "nbformat_minor": 2
}
